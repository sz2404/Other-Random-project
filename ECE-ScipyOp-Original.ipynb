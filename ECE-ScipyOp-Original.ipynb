{
 "cells": [
  {
   "cell_type": "code",
   "execution_count": 47,
   "metadata": {},
   "outputs": [
    {
     "name": "stdout",
     "output_type": "stream",
     "text": [
      "Populating the interactive namespace from numpy and matplotlib\n"
     ]
    }
   ],
   "source": [
    "import scipy as sp\n",
    "import scipy.optimize as optimize\n",
    "from scipy.optimize import minimize\n",
    "import pandas as pd\n",
    "import numpy as np\n",
    "import sys\n",
    "import os\n",
    "import pylab as pl\n",
    "%pylab inline"
   ]
  },
  {
   "cell_type": "markdown",
   "metadata": {},
   "source": [
    "## Scenario\n",
    "Valuing lower bound load more"
   ]
  },
  {
   "cell_type": "code",
   "execution_count": 48,
   "metadata": {},
   "outputs": [
    {
     "data": {
      "text/plain": [
       "'p = (T_p*S - T_s*L_s)/1.2 - L_g*T_g/0.95'"
      ]
     },
     "execution_count": 48,
     "metadata": {},
     "output_type": "execute_result"
    }
   ],
   "source": [
    "# The formula\n",
    "'p = (T_p*S - T_s*L_s)/1.2 - L_g*T_g/0.95'"
   ]
  },
  {
   "cell_type": "code",
   "execution_count": 49,
   "metadata": {},
   "outputs": [],
   "source": [
    "def injection(x):\n",
    "    \"\"\"The injection function\"\"\"\n",
    "\n",
    "    L_g = x[0]\n",
    "    T_g = x[1]\n",
    "    T_p = x[2]\n",
    "    S = x[3]\n",
    "    T_s = x[4]\n",
    "    L_s = x[5]\n",
    "\n",
    "\n",
    "    return (365*L_g*T_g/0.95 - (T_p*S - 365*T_s*L_s)/1.2)"
   ]
  },
  {
   "cell_type": "code",
   "execution_count": 50,
   "metadata": {},
   "outputs": [],
   "source": [
    "# Solar injection with credit is capped at 130% of consumption\n",
    "def constraint(x):\n",
    "    return (1.1*365*x[0]*x[1]/0.95 - (x[2]*x[3] - 365*x[4]*x[5])/1.2)\n",
    "Con = {'type':'ineq', 'fun':constraint}\n",
    "Cons = [Con]"
   ]
  },
  {
   "cell_type": "code",
   "execution_count": 51,
   "metadata": {},
   "outputs": [],
   "source": [
    "# Factor: kWh/kWp; 12 month; number obtained from Helioscope\n",
    "B_T_p = (1173,1263)\n",
    "\n",
    "# Load charged by Grid\n",
    "B_L_g = (0, 238.5)\n",
    "B_T_g = (2,10)\n",
    "# Load charged by solar, bound\n",
    "B_L_s = (0,388.5) \n",
    "B_T_s = (0, 6)\n",
    "\n",
    "\n",
    "B_S_500 = (500,500)\n",
    "B_S_520 = (520,520)\n",
    "B_S_540 = (540,540)\n",
    "B_S_560 = (560,560)\n",
    "B_S_580 = (580,580)\n",
    "B_S_600 = (600,600)\n",
    "\n",
    "\n",
    "\n",
    "Bounds_500 = [B_L_g, B_T_g, \n",
    "          B_T_p, B_S_500,\n",
    "          B_T_s, B_L_s]"
   ]
  },
  {
   "cell_type": "code",
   "execution_count": 52,
   "metadata": {},
   "outputs": [
    {
     "name": "stdout",
     "output_type": "stream",
     "text": [
      "Result: -47580.064188519726 \n",
      "Parameter Values: [1.50304439e+02 8.28676530e+00 1.26299998e+03 5.00000000e+02\n",
      " 2.20413877e-03 1.80883758e+02]\n"
     ]
    }
   ],
   "source": [
    "ig_500_1 = [0, 3, \n",
    "          1250, 500,\n",
    "         5, 300]\n",
    "sol_annual_500_1 = minimize(injection, ig_500_1, bounds=Bounds_500, constraints=Cons)\n",
    "print('Result:', sol_annual_500_1.fun, '\\nParameter Values:', sol_annual_500_1.x)"
   ]
  },
  {
   "cell_type": "code",
   "execution_count": 53,
   "metadata": {},
   "outputs": [
    {
     "name": "stdout",
     "output_type": "stream",
     "text": [
      "Result: -43682.70158722723 \n",
      "Parameter Values: [1.34387277e+02 8.91248105e+00 1.25962100e+03 5.00000000e+02\n",
      " 4.37355896e-01 1.57718803e+02]\n"
     ]
    }
   ],
   "source": [
    "ig_500_2 = [65.4, 3, \n",
    "          1230, 500,\n",
    "         5, 250]\n",
    "sol_annual_500_2 = minimize(injection, ig_500_2, bounds=Bounds_500, constraints=Cons)\n",
    "print('Result:', sol_annual_500_2.fun, '\\nParameter Values:', sol_annual_500_2.x)"
   ]
  },
  {
   "cell_type": "code",
   "execution_count": 54,
   "metadata": {},
   "outputs": [
    {
     "name": "stdout",
     "output_type": "stream",
     "text": [
      "Result: -51431.18746947026 \n",
      "Parameter Values: [1.81335283e+02 6.81312107e+00 1.26300000e+03 5.00000000e+02\n",
      " 1.04033041e-02 4.49915467e+01]\n"
     ]
    }
   ],
   "source": [
    "ig_500_3 = [157.5, 3, \n",
    "          1210, 500,\n",
    "         5, 200]\n",
    "sol_annual_500_3 = minimize(injection, ig_500_3, bounds=Bounds_500, constraints=Cons)\n",
    "print('Result:', sol_annual_500_3.fun, '\\nParameter Values:', sol_annual_500_3.x)"
   ]
  },
  {
   "cell_type": "code",
   "execution_count": 55,
   "metadata": {},
   "outputs": [
    {
     "name": "stdout",
     "output_type": "stream",
     "text": [
      "Result: -38368.97315587936 \n",
      "Parameter Values: [ 200.0822622     5.48852634 1227.14339441  500.            2.37743758\n",
      "   70.55007128]\n"
     ]
    }
   ],
   "source": [
    "ig_500_4 = [200, 3, \n",
    "          1190, 500,\n",
    "         5, 150]\n",
    "sol_annual_500_4 = minimize(injection, ig_500_4, bounds=Bounds_500, constraints=Cons)\n",
    "print('Result:', sol_annual_500_4.fun, '\\nParameter Values:', sol_annual_500_4.x)"
   ]
  },
  {
   "cell_type": "code",
   "execution_count": 56,
   "metadata": {},
   "outputs": [
    {
     "name": "stdout",
     "output_type": "stream",
     "text": [
      "Result: -48511.79168230691 \n",
      "Parameter Values: [2.38458626e+02 5.21319129e+00 1.26272542e+03 5.00000000e+02\n",
      " 0.00000000e+00 2.95905180e-01]\n"
     ]
    }
   ],
   "source": [
    "ig_500_5 = [238.5, 3, \n",
    "          1180, 500,\n",
    "         5, 100]\n",
    "sol_annual_500_5 = minimize(injection, ig_500_5, bounds=Bounds_500, constraints=Cons)\n",
    "print('Result:', sol_annual_500_5.fun, '\\nParameter Values:', sol_annual_500_5.x)"
   ]
  },
  {
   "cell_type": "code",
   "execution_count": 57,
   "metadata": {},
   "outputs": [
    {
     "name": "stdout",
     "output_type": "stream",
     "text": [
      "Result: -85416.66666666667 \n",
      "Parameter Values: [   0.    3. 1250.  520.    5.  300.]\n"
     ]
    }
   ],
   "source": [
    "Bounds_520 = [B_L_g, B_T_g, \n",
    "          B_T_p, B_S_520,\n",
    "          B_T_s, B_L_s]\n",
    "ig_520_1 = [0, 3, \n",
    "          1250, 520,\n",
    "         5, 300]\n",
    "sol_annual_520_1 = minimize(injection, ig_520_1, bounds=Bounds_520, constraints=Cons)\n",
    "print('Result:', sol_annual_520_1.fun, '\\nParameter Values:', sol_annual_520_1.x)"
   ]
  },
  {
   "cell_type": "code",
   "execution_count": 58,
   "metadata": {},
   "outputs": [
    {
     "name": "stdout",
     "output_type": "stream",
     "text": [
      "Result: -48083.79370378511 \n",
      "Parameter Values: [1.37704083e+02 8.15509293e+00 1.25380689e+03 5.20000000e+02\n",
      " 1.17389727e+00 1.78591904e+02]\n"
     ]
    }
   ],
   "source": [
    "ig_520_2 = [65.4, 3, \n",
    "          1230, 520,\n",
    "         5, 250]\n",
    "sol_annual_520_2 = minimize(injection, ig_520_2, bounds=Bounds_520, constraints=Cons)\n",
    "print('Result:', sol_annual_520_2.fun, '\\nParameter Values:', sol_annual_520_2.x)"
   ]
  },
  {
   "cell_type": "code",
   "execution_count": 59,
   "metadata": {},
   "outputs": [
    {
     "name": "stdout",
     "output_type": "stream",
     "text": [
      "Result: -40159.85591276584 \n",
      "Parameter Values: [ 175.13251537    6.73354842 1245.35892877  520.            1.60239057\n",
      "   95.22139581]\n"
     ]
    }
   ],
   "source": [
    "ig_520_3 = [157.5, 3, \n",
    "          1210, 520,\n",
    "         5, 200]\n",
    "sol_annual_520_3 = minimize(injection, ig_520_3, bounds=Bounds_520, constraints=Cons)\n",
    "print('Result:', sol_annual_520_3.fun, '\\nParameter Values:', sol_annual_520_3.x)"
   ]
  },
  {
   "cell_type": "code",
   "execution_count": 60,
   "metadata": {},
   "outputs": [
    {
     "name": "stdout",
     "output_type": "stream",
     "text": [
      "Result: -57015.35087719298 \n",
      "Parameter Values: [ 200.    3. 1190.  520.    5.  150.]\n"
     ]
    }
   ],
   "source": [
    "ig_520_4 = [200, 3, \n",
    "          1190, 520,\n",
    "         5, 150]\n",
    "sol_annual_520_4 = minimize(injection, ig_520_4, bounds=Bounds_520, constraints=Cons)\n",
    "print('Result:', sol_annual_520_4.fun, '\\nParameter Values:', sol_annual_520_4.x)"
   ]
  },
  {
   "cell_type": "code",
   "execution_count": 61,
   "metadata": {},
   "outputs": [
    {
     "name": "stdout",
     "output_type": "stream",
     "text": [
      "Result: -80461.24234422273 \n",
      "Parameter Values: [ 238.49874867    3.75443878 1188.964496    520.            3.86179341\n",
      "   77.23586823]\n"
     ]
    }
   ],
   "source": [
    "ig_520_5 = [238.5, 3, \n",
    "          1180, 520,\n",
    "         5, 100]\n",
    "sol_annual_520_5 = minimize(injection, ig_520_5, bounds=Bounds_520, constraints=Cons)\n",
    "print('Result:', sol_annual_520_5.fun, '\\nParameter Values:', sol_annual_520_5.x)"
   ]
  },
  {
   "cell_type": "code",
   "execution_count": 62,
   "metadata": {},
   "outputs": [
    {
     "name": "stdout",
     "output_type": "stream",
     "text": [
      "Result: -106250.0 \n",
      "Parameter Values: [   0.    3. 1250.  540.    5.  300.]\n"
     ]
    }
   ],
   "source": [
    "Bounds_540 = [B_L_g, B_T_g, \n",
    "          B_T_p, B_S_540,\n",
    "          B_T_s, B_L_s]\n",
    "ig_540_1 = [0, 3, \n",
    "          1250, 540,\n",
    "         5, 300]\n",
    "sol_annual_540_1 = minimize(injection, ig_540_1, bounds=Bounds_540, constraints=Cons)\n",
    "print('Result:', sol_annual_540_1.fun, '\\nParameter Values:', sol_annual_540_1.x)"
   ]
  },
  {
   "cell_type": "code",
   "execution_count": 63,
   "metadata": {},
   "outputs": [
    {
     "name": "stdout",
     "output_type": "stream",
     "text": [
      "Result: -54276.9131769503 \n",
      "Parameter Values: [1.77260038e+02 7.36373582e+00 1.26031302e+03 5.40000000e+02\n",
      " 3.25197231e-01 1.14801035e+02]\n"
     ]
    }
   ],
   "source": [
    "ig_540_2 = [65.4, 3, \n",
    "          1230, 540,\n",
    "         5, 250]\n",
    "sol_annual_540_2 = minimize(injection, ig_540_2, bounds=Bounds_540, constraints=Cons)\n",
    "print('Result:', sol_annual_540_2.fun, '\\nParameter Values:', sol_annual_540_2.x)"
   ]
  },
  {
   "cell_type": "code",
   "execution_count": 64,
   "metadata": {},
   "outputs": [
    {
     "name": "stdout",
     "output_type": "stream",
     "text": [
      "Result: -52623.71309382486 \n",
      "Parameter Values: [ 196.53064171    6.82814636 1262.69151461  540.            0.\n",
      "   35.31887659]\n"
     ]
    }
   ],
   "source": [
    "ig_540_3 = [157.5, 3, \n",
    "          1210, 540,\n",
    "         5, 200]\n",
    "sol_annual_540_3 = minimize(injection, ig_540_3, bounds=Bounds_540, constraints=Cons)\n",
    "print('Result:', sol_annual_540_3.fun, '\\nParameter Values:', sol_annual_540_3.x)"
   ]
  },
  {
   "cell_type": "code",
   "execution_count": 65,
   "metadata": {},
   "outputs": [
    {
     "name": "stdout",
     "output_type": "stream",
     "text": [
      "Result: -60318.406132277276 \n",
      "Parameter Values: [ 200.11116268    6.12682628 1238.10295336  540.            1.621079\n",
      "   52.25949469]\n"
     ]
    }
   ],
   "source": [
    "ig_540_4 = [200, 3, \n",
    "          1190, 540,\n",
    "         5, 150]\n",
    "sol_annual_540_4 = minimize(injection, ig_540_4, bounds=Bounds_540, constraints=Cons)\n",
    "print('Result:', sol_annual_540_4.fun, '\\nParameter Values:', sol_annual_540_4.x)"
   ]
  },
  {
   "cell_type": "code",
   "execution_count": 66,
   "metadata": {},
   "outputs": [
    {
     "name": "stdout",
     "output_type": "stream",
     "text": [
      "Result: -68436.21008711203 \n",
      "Parameter Values: [ 238.49279144    4.78016147 1219.02948535  530.7560116     2.31264647\n",
      "   46.51976429]\n"
     ]
    }
   ],
   "source": [
    "ig_540_5 = [238.5, 3, \n",
    "          1180, 520,\n",
    "         5, 100]\n",
    "sol_annual_540_5 = minimize(injection, ig_540_5, bounds=Bounds_540, constraints=Cons)\n",
    "print('Result:', sol_annual_540_5.fun, '\\nParameter Values:', sol_annual_540_5.x)"
   ]
  },
  {
   "cell_type": "code",
   "execution_count": 67,
   "metadata": {},
   "outputs": [
    {
     "name": "stdout",
     "output_type": "stream",
     "text": [
      "Result: -127083.33333333334 \n",
      "Parameter Values: [   0.    3. 1250.  560.    5.  300.]\n"
     ]
    }
   ],
   "source": [
    "Bounds_560 = [B_L_g, B_T_g, \n",
    "          B_T_p, B_S_560,\n",
    "          B_T_s, B_L_s]\n",
    "ig_560_1 = [0, 3, \n",
    "          1250, 560,\n",
    "         5, 300]\n",
    "sol_annual_560_1 = minimize(injection, ig_560_1, bounds=Bounds_560, constraints=Cons)\n",
    "print('Result:', sol_annual_560_1.fun, '\\nParameter Values:', sol_annual_560_1.x)"
   ]
  },
  {
   "cell_type": "code",
   "execution_count": 68,
   "metadata": {},
   "outputs": [
    {
     "name": "stdout",
     "output_type": "stream",
     "text": [
      "Result: -59319.832251146494 \n",
      "Parameter Values: [ 146.09087694    8.05087796 1252.08302954  560.            1.33138696\n",
      "  180.49180081]\n"
     ]
    }
   ],
   "source": [
    "ig_560_2 = [65.4, 3, \n",
    "          1230, 560,\n",
    "         5, 250]\n",
    "sol_annual_560_2 = minimize(injection, ig_560_2, bounds=Bounds_560, constraints=Cons)\n",
    "print('Result:', sol_annual_560_2.fun, '\\nParameter Values:', sol_annual_560_2.x)"
   ]
  },
  {
   "cell_type": "code",
   "execution_count": 69,
   "metadata": {},
   "outputs": [
    {
     "name": "stdout",
     "output_type": "stream",
     "text": [
      "Result: -55588.38758882275 \n",
      "Parameter Values: [1.76204137e+02 7.47093042e+00 1.25220492e+03 5.60000000e+02\n",
      " 9.61242847e-01 7.86508155e+01]\n"
     ]
    }
   ],
   "source": [
    "ig_560_3 = [157.5, 3, \n",
    "          1210, 560,\n",
    "         5, 200]\n",
    "sol_annual_560_3 = minimize(injection, ig_560_3, bounds=Bounds_560, constraints=Cons)\n",
    "print('Result:', sol_annual_560_3.fun, '\\nParameter Values:', sol_annual_560_3.x)"
   ]
  },
  {
   "cell_type": "code",
   "execution_count": 70,
   "metadata": {},
   "outputs": [
    {
     "name": "stdout",
     "output_type": "stream",
     "text": [
      "Result: -64452.56614109146 \n",
      "Parameter Values: [ 200.12296316    6.47175735 1242.09859049  560.            1.33574303\n",
      "   43.28016467]\n"
     ]
    }
   ],
   "source": [
    "ig_560_4 = [200, 3, \n",
    "          1190, 560,\n",
    "         5, 150]\n",
    "sol_annual_560_4 = minimize(injection, ig_560_4, bounds=Bounds_560, constraints=Cons)\n",
    "print('Result:', sol_annual_560_4.fun, '\\nParameter Values:', sol_annual_560_4.x)"
   ]
  },
  {
   "cell_type": "code",
   "execution_count": 71,
   "metadata": {},
   "outputs": [
    {
     "name": "stdout",
     "output_type": "stream",
     "text": [
      "Result: -85653.74965758849 \n",
      "Parameter Values: [ 238.4910512     4.91330635 1218.15323429  560.            2.3162159\n",
      "   46.28386011]\n"
     ]
    }
   ],
   "source": [
    "ig_560_5 = [238.5, 3, \n",
    "          1180, 560,\n",
    "         5, 100]\n",
    "sol_annual_560_5 = minimize(injection, ig_560_5, bounds=Bounds_560, constraints=Cons)\n",
    "print('Result:', sol_annual_560_5.fun, '\\nParameter Values:', sol_annual_560_5.x)"
   ]
  },
  {
   "cell_type": "code",
   "execution_count": 72,
   "metadata": {},
   "outputs": [
    {
     "name": "stdout",
     "output_type": "stream",
     "text": [
      "Result: -147916.6666666667 \n",
      "Parameter Values: [   0.    3. 1250.  580.    5.  300.]\n"
     ]
    }
   ],
   "source": [
    "Bounds_580 = [B_L_g, B_T_g, \n",
    "          B_T_p, B_S_580,\n",
    "          B_T_s, B_L_s]\n",
    "ig_580_1 = [0, 3, \n",
    "          1250, 580,\n",
    "         5, 300]\n",
    "sol_annual_580_1 = minimize(injection, ig_580_1, bounds=Bounds_580, constraints=Cons)\n",
    "print('Result:', sol_annual_580_1.fun, '\\nParameter Values:', sol_annual_580_1.x)"
   ]
  },
  {
   "cell_type": "code",
   "execution_count": 73,
   "metadata": {},
   "outputs": [
    {
     "name": "stdout",
     "output_type": "stream",
     "text": [
      "Result: -63903.841575379134 \n",
      "Parameter Values: [ 195.25347866    7.28549068 1263.          580.            0.\n",
      "  140.56742683]\n"
     ]
    }
   ],
   "source": [
    "Bounds_580 = [B_L_g, B_T_g, \n",
    "          B_T_p, B_S_580,\n",
    "          B_T_s, B_L_s]\n",
    "ig_580_2 = [65.4, 3, \n",
    "          1230, 580,\n",
    "         5, 250]\n",
    "sol_annual_580_2 = minimize(injection, ig_580_2, bounds=Bounds_580, constraints=Cons)\n",
    "print('Result:', sol_annual_580_2.fun, '\\nParameter Values:', sol_annual_580_2.x)"
   ]
  },
  {
   "cell_type": "code",
   "execution_count": 74,
   "metadata": {},
   "outputs": [
    {
     "name": "stdout",
     "output_type": "stream",
     "text": [
      "Result: -67301.82862184814 \n",
      "Parameter Values: [ 187.04455114    6.97385202 1247.76945277  580.            1.37604199\n",
      "   82.70164902]\n"
     ]
    }
   ],
   "source": [
    "ig_580_3 = [157.5, 3, \n",
    "          1210, 580,\n",
    "         5, 200]\n",
    "sol_annual_580_3 = minimize(injection, ig_580_3, bounds=Bounds_580, constraints=Cons)\n",
    "print('Result:', sol_annual_580_3.fun, '\\nParameter Values:', sol_annual_580_3.x)"
   ]
  },
  {
   "cell_type": "code",
   "execution_count": 75,
   "metadata": {},
   "outputs": [
    {
     "name": "stdout",
     "output_type": "stream",
     "text": [
      "Result: -65029.81499509525 \n",
      "Parameter Values: [2.00158658e+02 6.94736094e+00 1.25183269e+03 5.80000000e+02\n",
      " 7.37619230e-01 2.56254737e+01]\n"
     ]
    }
   ],
   "source": [
    "ig_580_4 = [200, 3, \n",
    "          1190, 580,\n",
    "         5, 150]\n",
    "sol_annual_580_4 = minimize(injection, ig_580_4, bounds=Bounds_580, constraints=Cons)\n",
    "print('Result:', sol_annual_580_4.fun, '\\nParameter Values:', sol_annual_580_4.x)"
   ]
  },
  {
   "cell_type": "code",
   "execution_count": 76,
   "metadata": {},
   "outputs": [
    {
     "name": "stdout",
     "output_type": "stream",
     "text": [
      "Result: -109602.28713422903 \n",
      "Parameter Values: [ 238.49662542    4.45366704 1204.04751883  580.            3.2528576\n",
      "   64.93917508]\n"
     ]
    }
   ],
   "source": [
    "ig_580_5 = [238.5, 3, \n",
    "          1180, 580,\n",
    "         5, 100]\n",
    "sol_annual_580_5 = minimize(injection, ig_580_5, bounds=Bounds_580, constraints=Cons)\n",
    "print('Result:', sol_annual_580_5.fun, '\\nParameter Values:', sol_annual_580_5.x)"
   ]
  },
  {
   "cell_type": "code",
   "execution_count": 77,
   "metadata": {},
   "outputs": [
    {
     "name": "stdout",
     "output_type": "stream",
     "text": [
      "Result: -168750.0 \n",
      "Parameter Values: [   0.    3. 1250.  600.    5.  300.]\n"
     ]
    }
   ],
   "source": [
    "Bounds_600 = [B_L_g, B_T_g, \n",
    "          B_T_p, B_S_600,\n",
    "          B_T_s, B_L_s]\n",
    "ig_600_1 = [0, 3, \n",
    "          1250, 600,\n",
    "         5, 300]\n",
    "\n",
    "sol_annual_600_1 = minimize(injection, ig_600_1, bounds=Bounds_600, constraints=Cons)\n",
    "print('Result:', sol_annual_600_1.fun, '\\nParameter Values:', sol_annual_600_1.x)"
   ]
  },
  {
   "cell_type": "code",
   "execution_count": 78,
   "metadata": {},
   "outputs": [
    {
     "name": "stdout",
     "output_type": "stream",
     "text": [
      "Result: -82374.01718969515 \n",
      "Parameter Values: [ 157.34871685    8.09965708 1252.68805578  600.            1.28100594\n",
      "  139.37241705]\n"
     ]
    }
   ],
   "source": [
    "Bounds_600 = [B_L_g, B_T_g, \n",
    "          B_T_p, B_S_600,\n",
    "          B_T_s, B_L_s]\n",
    "ig_600_2 = [65.4, 3, \n",
    "          1230, 600,\n",
    "         5, 250]\n",
    "\n",
    "sol_annual_600_2 = minimize(injection, ig_600_2, bounds=Bounds_600, constraints=Cons)\n",
    "print('Result:', sol_annual_600_2.fun, '\\nParameter Values:', sol_annual_600_2.x)"
   ]
  },
  {
   "cell_type": "code",
   "execution_count": 79,
   "metadata": {},
   "outputs": [
    {
     "name": "stdout",
     "output_type": "stream",
     "text": [
      "Result: -68646.33748161356 \n",
      "Parameter Values: [ 179.5434906     7.15278249 1245.619408    594.06559655    1.60365428\n",
      "  111.90855051]\n"
     ]
    }
   ],
   "source": [
    "ig_600_3 = [157.5, 3, \n",
    "          1210, 580,\n",
    "         5, 200]\n",
    "sol_annual_600_3 = minimize(injection, ig_600_3, bounds=Bounds_600, constraints=Cons)\n",
    "print('Result:', sol_annual_600_3.fun, '\\nParameter Values:', sol_annual_600_3.x)"
   ]
  },
  {
   "cell_type": "code",
   "execution_count": 80,
   "metadata": {},
   "outputs": [
    {
     "name": "stdout",
     "output_type": "stream",
     "text": [
      "Result: -84117.70870024594 \n",
      "Parameter Values: [ 200.12187258    6.50012102 1233.75554068  600.            1.8436288\n",
      "   58.79894889]\n"
     ]
    }
   ],
   "source": [
    "ig_600_4 = [200, 3, \n",
    "          1190, 600,\n",
    "         5, 150]\n",
    "sol_annual_600_4 = minimize(injection, ig_600_4, bounds=Bounds_600, constraints=Cons)\n",
    "print('Result:', sol_annual_600_4.fun, '\\nParameter Values:', sol_annual_600_4.x)"
   ]
  },
  {
   "cell_type": "code",
   "execution_count": 85,
   "metadata": {},
   "outputs": [
    {
     "name": "stdout",
     "output_type": "stream",
     "text": [
      "Result: -163014.03508771933 \n",
      "Parameter Values: [ 238.5    3.  1180.   600.     5.   100. ]\n"
     ]
    }
   ],
   "source": [
    "ig_600_5 = [238.5, 3, \n",
    "          1180, 600,\n",
    "         5, 100]\n",
    "sol_annual_600_5 = minimize(injection, ig_600_5, bounds=Bounds_600, constraints=Cons)\n",
    "print('Result:', sol_annual_600_5.fun, '\\nParameter Values:', sol_annual_600_5.x)"
   ]
  },
  {
   "cell_type": "code",
   "execution_count": 86,
   "metadata": {},
   "outputs": [
    {
     "data": {
      "text/html": [
       "<div>\n",
       "<table border=\"1\" class=\"dataframe\">\n",
       "  <thead>\n",
       "    <tr style=\"text-align: right;\">\n",
       "      <th></th>\n",
       "      <th>Nameplate</th>\n",
       "      <th>Net Injection-1</th>\n",
       "      <th>Net Injection-2</th>\n",
       "      <th>Net Injection-3</th>\n",
       "      <th>Net Injection-4</th>\n",
       "      <th>Net Injection-5</th>\n",
       "    </tr>\n",
       "  </thead>\n",
       "  <tbody>\n",
       "    <tr>\n",
       "      <th>0</th>\n",
       "      <td>500</td>\n",
       "      <td>-47580.064189</td>\n",
       "      <td>-43682.701587</td>\n",
       "      <td>-51431.187469</td>\n",
       "      <td>-38368.973156</td>\n",
       "      <td>-48511.791682</td>\n",
       "    </tr>\n",
       "    <tr>\n",
       "      <th>1</th>\n",
       "      <td>520</td>\n",
       "      <td>-85416.666667</td>\n",
       "      <td>-48083.793704</td>\n",
       "      <td>-40159.855913</td>\n",
       "      <td>-57015.350877</td>\n",
       "      <td>-80461.242344</td>\n",
       "    </tr>\n",
       "    <tr>\n",
       "      <th>2</th>\n",
       "      <td>540</td>\n",
       "      <td>-106250.000000</td>\n",
       "      <td>-54276.913177</td>\n",
       "      <td>-52623.713094</td>\n",
       "      <td>-60318.406132</td>\n",
       "      <td>-68436.210087</td>\n",
       "    </tr>\n",
       "    <tr>\n",
       "      <th>3</th>\n",
       "      <td>560</td>\n",
       "      <td>-127083.333333</td>\n",
       "      <td>-59319.832251</td>\n",
       "      <td>-55588.387589</td>\n",
       "      <td>-64452.566141</td>\n",
       "      <td>-85653.749658</td>\n",
       "    </tr>\n",
       "    <tr>\n",
       "      <th>4</th>\n",
       "      <td>580</td>\n",
       "      <td>-147916.666667</td>\n",
       "      <td>-63903.841575</td>\n",
       "      <td>-67301.828622</td>\n",
       "      <td>-65029.814995</td>\n",
       "      <td>-109602.287134</td>\n",
       "    </tr>\n",
       "    <tr>\n",
       "      <th>5</th>\n",
       "      <td>600</td>\n",
       "      <td>-168750.000000</td>\n",
       "      <td>-82374.017190</td>\n",
       "      <td>-68646.337482</td>\n",
       "      <td>-84117.708700</td>\n",
       "      <td>-163014.035088</td>\n",
       "    </tr>\n",
       "  </tbody>\n",
       "</table>\n",
       "</div>"
      ],
      "text/plain": [
       "   Nameplate  Net Injection-1  Net Injection-2  Net Injection-3  \\\n",
       "0        500    -47580.064189    -43682.701587    -51431.187469   \n",
       "1        520    -85416.666667    -48083.793704    -40159.855913   \n",
       "2        540   -106250.000000    -54276.913177    -52623.713094   \n",
       "3        560   -127083.333333    -59319.832251    -55588.387589   \n",
       "4        580   -147916.666667    -63903.841575    -67301.828622   \n",
       "5        600   -168750.000000    -82374.017190    -68646.337482   \n",
       "\n",
       "   Net Injection-4  Net Injection-5  \n",
       "0    -38368.973156    -48511.791682  \n",
       "1    -57015.350877    -80461.242344  \n",
       "2    -60318.406132    -68436.210087  \n",
       "3    -64452.566141    -85653.749658  \n",
       "4    -65029.814995   -109602.287134  \n",
       "5    -84117.708700   -163014.035088  "
      ]
     },
     "execution_count": 86,
     "metadata": {},
     "output_type": "execute_result"
    }
   ],
   "source": [
    "a = {'Nameplate':[500,520,540,560,580,600], \n",
    "    'Net Injection-1':[sol_annual_500_1.fun, sol_annual_520_1.fun, sol_annual_540_1.fun, sol_annual_560_1.fun,\n",
    "                     sol_annual_580_1.fun, sol_annual_600_1.fun],\n",
    "    'Net Injection-2':[sol_annual_500_2.fun, sol_annual_520_2.fun, sol_annual_540_2.fun, sol_annual_560_2.fun,\n",
    "                     sol_annual_580_2.fun, sol_annual_600_2.fun],\n",
    "    'Net Injection-3':[sol_annual_500_3.fun, sol_annual_520_3.fun, sol_annual_540_3.fun, sol_annual_560_3.fun,\n",
    "                     sol_annual_580_3.fun, sol_annual_600_3.fun],\n",
    "    'Net Injection-4':[sol_annual_500_4.fun, sol_annual_520_4.fun, sol_annual_540_4.fun, sol_annual_560_4.fun,\n",
    "                     sol_annual_580_4.fun, sol_annual_600_4.fun],\n",
    "    'Net Injection-5':[sol_annual_500_5.fun, sol_annual_520_5.fun, sol_annual_540_5.fun, sol_annual_560_5.fun,\n",
    "                     sol_annual_580_5.fun, sol_annual_600_5.fun]}\n",
    "data = pd.DataFrame(a)\n",
    "data"
   ]
  },
  {
   "cell_type": "code",
   "execution_count": 89,
   "metadata": {},
   "outputs": [
    {
     "data": {
      "text/html": [
       "<div>\n",
       "<table border=\"1\" class=\"dataframe\">\n",
       "  <thead>\n",
       "    <tr style=\"text-align: right;\">\n",
       "      <th></th>\n",
       "      <th>Nameplate</th>\n",
       "      <th>Net Injection-1</th>\n",
       "      <th>Net Injection-2</th>\n",
       "      <th>Net Injection-3</th>\n",
       "      <th>Net Injection-4</th>\n",
       "      <th>Net Injection-5</th>\n",
       "    </tr>\n",
       "  </thead>\n",
       "  <tbody>\n",
       "    <tr>\n",
       "      <th>0</th>\n",
       "      <td>500</td>\n",
       "      <td>4.677425</td>\n",
       "      <td>4.640309</td>\n",
       "      <td>4.711227</td>\n",
       "      <td>4.583980</td>\n",
       "      <td>4.685847</td>\n",
       "    </tr>\n",
       "    <tr>\n",
       "      <th>1</th>\n",
       "      <td>520</td>\n",
       "      <td>4.931543</td>\n",
       "      <td>4.681999</td>\n",
       "      <td>4.603792</td>\n",
       "      <td>4.755992</td>\n",
       "      <td>4.905587</td>\n",
       "    </tr>\n",
       "    <tr>\n",
       "      <th>2</th>\n",
       "      <td>540</td>\n",
       "      <td>5.026329</td>\n",
       "      <td>4.734615</td>\n",
       "      <td>4.721181</td>\n",
       "      <td>4.780450</td>\n",
       "      <td>4.835286</td>\n",
       "    </tr>\n",
       "    <tr>\n",
       "      <th>3</th>\n",
       "      <td>560</td>\n",
       "      <td>5.104089</td>\n",
       "      <td>4.773200</td>\n",
       "      <td>4.744984</td>\n",
       "      <td>4.809240</td>\n",
       "      <td>4.932746</td>\n",
       "    </tr>\n",
       "    <tr>\n",
       "      <th>4</th>\n",
       "      <td>580</td>\n",
       "      <td>5.170017</td>\n",
       "      <td>4.805527</td>\n",
       "      <td>4.828027</td>\n",
       "      <td>4.813113</td>\n",
       "      <td>5.039820</td>\n",
       "    </tr>\n",
       "    <tr>\n",
       "      <th>5</th>\n",
       "      <td>600</td>\n",
       "      <td>5.227244</td>\n",
       "      <td>4.915790</td>\n",
       "      <td>4.836617</td>\n",
       "      <td>4.924887</td>\n",
       "      <td>5.212225</td>\n",
       "    </tr>\n",
       "  </tbody>\n",
       "</table>\n",
       "</div>"
      ],
      "text/plain": [
       "   Nameplate  Net Injection-1  Net Injection-2  Net Injection-3  \\\n",
       "0        500         4.677425         4.640309         4.711227   \n",
       "1        520         4.931543         4.681999         4.603792   \n",
       "2        540         5.026329         4.734615         4.721181   \n",
       "3        560         5.104089         4.773200         4.744984   \n",
       "4        580         5.170017         4.805527         4.828027   \n",
       "5        600         5.227244         4.915790         4.836617   \n",
       "\n",
       "   Net Injection-4  Net Injection-5  \n",
       "0         4.583980         4.685847  \n",
       "1         4.755992         4.905587  \n",
       "2         4.780450         4.835286  \n",
       "3         4.809240         4.932746  \n",
       "4         4.813113         5.039820  \n",
       "5         4.924887         5.212225  "
      ]
     },
     "execution_count": 89,
     "metadata": {},
     "output_type": "execute_result"
    }
   ],
   "source": [
    "data['Net Injection-1'] = np.log10(abs(data['Net Injection-1']))\n",
    "data['Net Injection-2'] = np.log10(abs(data['Net Injection-2']))\n",
    "data['Net Injection-3'] = np.log10(abs(data['Net Injection-3']))\n",
    "data['Net Injection-4'] = np.log10(abs(data['Net Injection-4']))\n",
    "data['Net Injection-5'] = np.log10(abs(data['Net Injection-5']))\n",
    "data"
   ]
  },
  {
   "cell_type": "code",
   "execution_count": 93,
   "metadata": {},
   "outputs": [
    {
     "data": {
      "text/plain": [
       "<matplotlib.legend.Legend at 0x7fb5ac4a3860>"
      ]
     },
     "execution_count": 93,
     "metadata": {},
     "output_type": "execute_result"
    },
    {
     "data": {
      "image/png": "[encoded data removed]",
      "text/plain": [
       "<matplotlib.figure.Figure at 0x7fb5ac4f4160>"
      ]
     },
     "metadata": {},
     "output_type": "display_data"
    }
   ],
   "source": [
    "pl.figure(figsize=(8,5))\n",
    "pl.plot(data['Nameplate'], data['Net Injection-1'], '-', c='b',label='1')\n",
    "pl.plot(data['Nameplate'], data['Net Injection-2'], '-', c='g',label='2')\n",
    "pl.plot(data['Nameplate'], data['Net Injection-3'], '-', c='r', label='3')\n",
    "pl.plot(data['Nameplate'], data['Net Injection-4'], '-', c='y', label='4')\n",
    "pl.plot(data['Nameplate'], data['Net Injection-5'], '-', c='black', label='5')\n",
    "\n",
    "pl.xlabel('Nameplate')\n",
    "pl.ylabel('Net Injection (Log10 applied)')\n",
    "pl.title('Simple Formula Optimization Result(Log10 applied)')\n",
    "pl.legend()"
   ]
  },
  {
   "cell_type": "code",
   "execution_count": null,
   "metadata": {},
   "outputs": [],
   "source": []
  }
 ],
 "metadata": {
  "kernelspec": {
   "display_name": "PUI2016_Python3",
   "language": "python",
   "name": "pui2016_python3"
  },
  "language_info": {
   "codemirror_mode": {
    "name": "ipython",
    "version": 3
   },
   "file_extension": ".py",
   "mimetype": "text/x-python",
   "name": "python",
   "nbconvert_exporter": "python",
   "pygments_lexer": "ipython3",
   "version": "3.5.4"
  }
 },
 "nbformat": 4,
 "nbformat_minor": 2
}
