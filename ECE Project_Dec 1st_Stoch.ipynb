{
 "cells": [
  {
   "cell_type": "code",
   "execution_count": 9,
   "metadata": {},
   "outputs": [],
   "source": [
    "import numpy as np\n",
    "import statistics as st"
   ]
  },
  {
   "cell_type": "code",
   "execution_count": 13,
   "metadata": {},
   "outputs": [],
   "source": [
    "# System Size, 6 different trials\n",
    "S = np.array([500,520,540,560,580,600])\n",
    "\n",
    "# Factor: System producing hours daily production/nameplate; 12 month; number obtained from Helioscope\n",
    "T_p = np.arange(1170, 1270, 10)\n",
    "\n",
    "# Load charging on grid; Trying to eliminate grid usage through controlling truck charging\n",
    "L_g = np.array([7.7, 15.4, 57.7, 73.1, 107.7, 123.1, 157.7, 173.1, 207.7, 223.1, 257.5, 238.5])\n",
    "\n",
    "# Load charging on solar: \n",
    "L_s = np.array([7.7, 15.4, 57.7, 73.1, 107.7, 123.1, 157.7, 173.1, 223.1, 257.5, 288.5, 338.5, 388.5])\n",
    "\n",
    "# Solar charging hours; Trying to be conservative here\n",
    "T_s = np.arange(0,5,0.5)\n",
    "\n",
    "# Grid charging hours\n",
    "T_g = np.arange(2,12,0.5)"
   ]
  },
  {
   "cell_type": "code",
   "execution_count": 14,
   "metadata": {},
   "outputs": [],
   "source": [
    "# First trial on how to express the function with different numbers in for loops. \n",
    "def opt1(T_p,S,L_s,T_s,L_g,T_g):\n",
    "    result = set()\n",
    "    dic = {}\n",
    "    for i in range(len(T_p)):\n",
    "#         for j in range(len(S)):\n",
    "        for k in range(len(L_s)):\n",
    "            for l in range(len(T_s)):\n",
    "                for m in range(len(L_g)):\n",
    "                    for n in range(len(T_g)):\n",
    "                        res = (T_p[i] * S - 365 * L_s[k] * T_s[l])/1.2 - L_g[m] * T_g[n] * 365/0.95\n",
    "# Cap injection at 110% of grid usage:                        \n",
    "                        if res > 0 and ((T_p[i] * S - 365 * L_s[k] * T_s[l])/1.2)/(L_g[m] * T_g[n] * 365/0.95)<1.1:\n",
    "                            key = [T_p[i],L_s[k],T_s[l],L_g[m],T_g[n]]\n",
    "                            dic[res] = key\n",
    "                            result.add(res)\n",
    "                        \n",
    "    print(len(result))\n",
    "    max_res = max(dic.keys())\n",
    "    #mean_res = st.mean(dic.keys())\n",
    "    res_summ = list(dic.keys())\n",
    "    mean = np.mean(res_summ)\n",
    "    print('S:', S, 'res:', max_res, 'paraneter:',dic[max_res])\n",
    "    print('S:', S, 'mean:', mean)\n",
    "#    print(res_summ)\n",
    "    #print('S:', S, 'res:', mean_res, 'paraneter:',dic[mean_res])\n"
   ]
  },
  {
   "cell_type": "code",
   "execution_count": 15,
   "metadata": {},
   "outputs": [
    {
     "name": "stdout",
     "output_type": "stream",
     "text": [
      "9521\n",
      "S: 500 res: 47045.723684210505 paraneter: [1250, 15.4, 0.5, 223.1, 5.5]\n",
      "S: 500 mean: 18320.84468865685\n",
      "9728\n",
      "S: 520 res: 49388.68421052629 paraneter: [1260, 388.5, 0.0, 123.1, 10.5]\n",
      "S: 520 mean: 19136.409390239078\n",
      "9888\n",
      "S: 540 res: 50813.95833333343 paraneter: [1260, 7.7, 0.5, 157.7, 8.5]\n",
      "S: 540 mean: 19949.5850477098\n",
      "9991\n",
      "S: 560 res: 52432.13815789472 paraneter: [1260, 7.7, 1.5, 173.1, 8.0]\n",
      "S: 560 mean: 20744.949143922535\n",
      "10048\n",
      "S: 580 res: 54510.570175438654 paraneter: [1260, 15.4, 1.0, 238.5, 6.0]\n",
      "S: 580 mean: 21644.98870443802\n",
      "10032\n",
      "S: 600 res: 56494.55043859652 paraneter: [1260, 7.7, 3.5, 173.1, 8.5]\n",
      "S: 600 mean: 22370.216899124574\n"
     ]
    }
   ],
   "source": [
    "for i in range(len(S)):\n",
    "    opt1(T_p,S[i],L_s,T_s,L_g,T_g)"
   ]
  },
  {
   "cell_type": "code",
   "execution_count": null,
   "metadata": {},
   "outputs": [],
   "source": []
  }
 ],
 "metadata": {
  "kernelspec": {
   "display_name": "PUI2016_Python3",
   "language": "python",
   "name": "pui2016_python3"
  },
  "language_info": {
   "codemirror_mode": {
    "name": "ipython",
    "version": 3
   },
   "file_extension": ".py",
   "mimetype": "text/x-python",
   "name": "python",
   "nbconvert_exporter": "python",
   "pygments_lexer": "ipython3",
   "version": "3.5.4"
  }
 },
 "nbformat": 4,
 "nbformat_minor": 2
}
