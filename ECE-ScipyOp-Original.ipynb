{
 "cells": [
  {
   "cell_type": "code",
   "execution_count": 1,
   "metadata": {},
   "outputs": [
    {
     "name": "stdout",
     "output_type": "stream",
     "text": [
      "Populating the interactive namespace from numpy and matplotlib\n"
     ]
    }
   ],
   "source": [
    "import scipy as sp\n",
    "import scipy.optimize as optimize\n",
    "from scipy.optimize import minimize\n",
    "import pandas as pd\n",
    "import numpy as np\n",
    "import sys\n",
    "import os\n",
    "import pylab as pl\n",
    "%pylab inline"
   ]
  },
  {
   "cell_type": "markdown",
   "metadata": {},
   "source": [
    "## Scenario\n",
    "Valuing lower bound load more"
   ]
  },
  {
   "cell_type": "code",
   "execution_count": 2,
   "metadata": {},
   "outputs": [
    {
     "data": {
      "text/plain": [
       "'p = (T_p*S - T_s*L_s)/1.2 - L_g*T_g'"
      ]
     },
     "execution_count": 2,
     "metadata": {},
     "output_type": "execute_result"
    }
   ],
   "source": [
    "# The formula\n",
    "'p = (T_p*S - T_s*L_s)/1.2 - L_g*T_g'"
   ]
  },
  {
   "cell_type": "code",
   "execution_count": 3,
   "metadata": {},
   "outputs": [],
   "source": [
    "def injection(x):\n",
    "    \"\"\"The injection function\"\"\"\n",
    "\n",
    "    L_g = x[0]\n",
    "    T_g = x[1]\n",
    "    T_p = x[2]\n",
    "    S = x[3]\n",
    "    T_s = x[4]\n",
    "    L_s = x[5]\n",
    "\n",
    "\n",
    "    return (365*L_g*T_g - (T_p*S - 365*T_s*L_s)/1.2)"
   ]
  },
  {
   "cell_type": "code",
   "execution_count": 4,
   "metadata": {},
   "outputs": [],
   "source": [
    "# Solar injection with credit is capped at 130% of consumption\n",
    "def constraint1(x):\n",
    "    return (1.1*365*x[0]*x[1] - (x[2]*x[3] - 365*x[4]*x[5])/1.2)\n",
    "def constraint2(x): \n",
    "    return x[0]*x[1] - 0\n",
    "def constraint3(x):\n",
    "    return x[4]*x[5] - 0\n",
    "Con1 = {'type':'ineq', 'fun':constraint1}\n",
    "Con2 = {'type':'ineq', 'fun':constraint2}\n",
    "Con3 = {'type':'ineq', 'fun':constraint3}\n",
    "Cons = [Con1, Con2, Con3]"
   ]
  },
  {
   "cell_type": "code",
   "execution_count": 5,
   "metadata": {},
   "outputs": [],
   "source": [
    "# Factor: kWh/kWp; 12 month; number obtained from Helioscope\n",
    "B_T_p = (1173,1263)\n",
    "\n",
    "# Load charged by Grid\n",
    "B_L_g = (0, 338.5)\n",
    "B_T_g = (2,10)\n",
    "# Load charged by solar, bound\n",
    "B_L_s = (0,488.5) \n",
    "B_T_s = (0, 6)\n",
    "\n",
    "\n",
    "B_S_500 = (500,500)\n",
    "B_S_520 = (520,520)\n",
    "B_S_540 = (540,540)\n",
    "B_S_560 = (560,560)\n",
    "B_S_580 = (580,580)\n",
    "B_S_600 = (600,600)\n",
    "\n",
    "\n",
    "\n",
    "Bounds_500 = [B_L_g, B_T_g, \n",
    "          B_T_p, B_S_500,\n",
    "          B_T_s, B_L_s]"
   ]
  },
  {
   "cell_type": "code",
   "execution_count": 6,
   "metadata": {},
   "outputs": [
    {
     "name": "stdout",
     "output_type": "stream",
     "text": [
      "Result: -12458.017252804435 \n",
      "Parameter Values: [ 109.48211357    3.         1250.00618735  500.            3.19328972\n",
      "  399.97741611]\n"
     ]
    }
   ],
   "source": [
    "ig_500_1 = [0, 3, \n",
    "          1250, 500,\n",
    "         5, 400]\n",
    "sol_annual_500_1 = minimize(injection, ig_500_1, bounds=Bounds_500, constraints=Cons)\n",
    "print('Result:', sol_annual_500_1.fun, '\\nParameter Values:', sol_annual_500_1.x)"
   ]
  },
  {
   "cell_type": "code",
   "execution_count": 7,
   "metadata": {},
   "outputs": [
    {
     "name": "stdout",
     "output_type": "stream",
     "text": [
      "Result: -50541.72305297764 \n",
      "Parameter Values: [ 136.08180906    9.57740316 1263.          500.            0.\n",
      "  249.95178681]\n"
     ]
    }
   ],
   "source": [
    "ig_500_2 = [65.4, 3, \n",
    "          1230, 500,\n",
    "         5, 250]\n",
    "sol_annual_500_2 = minimize(injection, ig_500_2, bounds=Bounds_500, constraints=Cons)\n",
    "print('Result:', sol_annual_500_2.fun, '\\nParameter Values:', sol_annual_500_2.x)"
   ]
  },
  {
   "cell_type": "code",
   "execution_count": 8,
   "metadata": {},
   "outputs": [
    {
     "name": "stdout",
     "output_type": "stream",
     "text": [
      "Result: -49490.21425333788 \n",
      "Parameter Values: [ 157.59773463    8.28813432 1263.          500.            0.\n",
      "  199.87592179]\n"
     ]
    }
   ],
   "source": [
    "ig_500_3 = [157.5, 3, \n",
    "          1210, 500,\n",
    "         5, 200]\n",
    "sol_annual_500_3 = minimize(injection, ig_500_3, bounds=Bounds_500, constraints=Cons)\n",
    "print('Result:', sol_annual_500_3.fun, '\\nParameter Values:', sol_annual_500_3.x)"
   ]
  },
  {
   "cell_type": "code",
   "execution_count": 9,
   "metadata": {},
   "outputs": [
    {
     "name": "stdout",
     "output_type": "stream",
     "text": [
      "Result: -57650.252993497765 \n",
      "Parameter Values: [ 250.02369351    4.97445891 1227.87035501  500.            0.\n",
      "  149.83124468]\n"
     ]
    }
   ],
   "source": [
    "ig_500_4 = [250, 3, \n",
    "          1190, 500,\n",
    "         5, 150]\n",
    "sol_annual_500_4 = minimize(injection, ig_500_4, bounds=Bounds_500, constraints=Cons)\n",
    "print('Result:', sol_annual_500_4.fun, '\\nParameter Values:', sol_annual_500_4.x)"
   ]
  },
  {
   "cell_type": "code",
   "execution_count": 10,
   "metadata": {},
   "outputs": [
    {
     "name": "stdout",
     "output_type": "stream",
     "text": [
      "Result: -80053.72741723101 \n",
      "Parameter Values: [ 327.90103583    3.72812345 1263.          500.            0.\n",
      "   99.75271664]\n"
     ]
    }
   ],
   "source": [
    "ig_500_5 = [350, 3, \n",
    "          1180, 500,\n",
    "         5, 100]\n",
    "sol_annual_500_5 = minimize(injection, ig_500_5, bounds=Bounds_500, constraints=Cons)\n",
    "print('Result:', sol_annual_500_5.fun, '\\nParameter Values:', sol_annual_500_5.x)"
   ]
  },
  {
   "cell_type": "code",
   "execution_count": 11,
   "metadata": {},
   "outputs": [
    {
     "name": "stdout",
     "output_type": "stream",
     "text": [
      "Result: -56109.89893655316 \n",
      "Parameter Values: [ 151.22025594    8.89911405 1263.          520.            0.\n",
      "  399.95009852]\n"
     ]
    }
   ],
   "source": [
    "Bounds_520 = [B_L_g, B_T_g, \n",
    "          B_T_p, B_S_520,\n",
    "          B_T_s, B_L_s]\n",
    "ig_520_1 = [0, 3, \n",
    "          1250, 520,\n",
    "         5, 400]\n",
    "sol_annual_520_1 = minimize(injection, ig_520_1, bounds=Bounds_520, constraints=Cons)\n",
    "print('Result:', sol_annual_520_1.fun, '\\nParameter Values:', sol_annual_520_1.x)"
   ]
  },
  {
   "cell_type": "code",
   "execution_count": 12,
   "metadata": {},
   "outputs": [
    {
     "name": "stdout",
     "output_type": "stream",
     "text": [
      "Result: -39921.79021203617 \n",
      "Parameter Values: [ 139.08702059    9.99429912 1263.          520.            0.\n",
      "  249.94021922]\n"
     ]
    }
   ],
   "source": [
    "ig_520_2 = [65.4, 3, \n",
    "          1230, 520,\n",
    "         5, 250]\n",
    "sol_annual_520_2 = minimize(injection, ig_520_2, bounds=Bounds_520, constraints=Cons)\n",
    "print('Result:', sol_annual_520_2.fun, '\\nParameter Values:', sol_annual_520_2.x)"
   ]
  },
  {
   "cell_type": "code",
   "execution_count": 13,
   "metadata": {},
   "outputs": [
    {
     "name": "stdout",
     "output_type": "stream",
     "text": [
      "Result: -53040.392948994064 \n",
      "Parameter Values: [ 157.60456579    8.48940538 1249.38252836  520.            0.\n",
      "  199.87316958]\n"
     ]
    }
   ],
   "source": [
    "ig_520_3 = [157.5, 3, \n",
    "          1210, 520,\n",
    "         5, 200]\n",
    "sol_annual_520_3 = minimize(injection, ig_520_3, bounds=Bounds_520, constraints=Cons)\n",
    "print('Result:', sol_annual_520_3.fun, '\\nParameter Values:', sol_annual_520_3.x)"
   ]
  },
  {
   "cell_type": "code",
   "execution_count": 14,
   "metadata": {},
   "outputs": [
    {
     "name": "stdout",
     "output_type": "stream",
     "text": [
      "Result: -13791.666666666686 \n",
      "Parameter Values: [ 250.    3. 1190.  520.    5.  150.]\n"
     ]
    }
   ],
   "source": [
    "ig_520_4 = [250, 3, \n",
    "          1190, 520,\n",
    "         5, 150]\n",
    "sol_annual_520_4 = minimize(injection, ig_520_4, bounds=Bounds_520, constraints=Cons)\n",
    "print('Result:', sol_annual_520_4.fun, '\\nParameter Values:', sol_annual_520_4.x)"
   ]
  },
  {
   "cell_type": "code",
   "execution_count": 15,
   "metadata": {},
   "outputs": [
    {
     "name": "stdout",
     "output_type": "stream",
     "text": [
      "Result: -25123.149925074307 \n",
      "Parameter Values: [3.28645482e+02 4.34045532e+00 1.26297365e+03 5.20000000e+02\n",
      " 4.95515709e-02 9.97552252e+01]\n"
     ]
    }
   ],
   "source": [
    "ig_520_5 = [350, 3, \n",
    "          1180, 520,\n",
    "         5, 100]\n",
    "sol_annual_520_5 = minimize(injection, ig_520_5, bounds=Bounds_520, constraints=Cons)\n",
    "print('Result:', sol_annual_520_5.fun, '\\nParameter Values:', sol_annual_520_5.x)"
   ]
  },
  {
   "cell_type": "code",
   "execution_count": 16,
   "metadata": {},
   "outputs": [
    {
     "name": "stdout",
     "output_type": "stream",
     "text": [
      "Result: -75199.76574663102 \n",
      "Parameter Values: [ 142.2548343     9.49771963 1263.          540.            0.\n",
      "  399.96473264]\n"
     ]
    }
   ],
   "source": [
    "Bounds_540 = [B_L_g, B_T_g, \n",
    "          B_T_p, B_S_540,\n",
    "          B_T_s, B_L_s]\n",
    "ig_540_1 = [0, 3, \n",
    "          1250, 540,\n",
    "         5, 400]\n",
    "sol_annual_540_1 = minimize(injection, ig_540_1, bounds=Bounds_540, constraints=Cons)\n",
    "print('Result:', sol_annual_540_1.fun, '\\nParameter Values:', sol_annual_540_1.x)"
   ]
  },
  {
   "cell_type": "code",
   "execution_count": 17,
   "metadata": {},
   "outputs": [
    {
     "name": "stdout",
     "output_type": "stream",
     "text": [
      "Result: -150280.78977977356 \n",
      "Parameter Values: [1.39130027e+02 7.24263006e+00 1.25434775e+03 5.40000000e+02\n",
      " 6.10454263e-01 2.49769325e+02]\n"
     ]
    }
   ],
   "source": [
    "ig_540_2 = [65.4, 3, \n",
    "          1230, 540,\n",
    "         5, 250]\n",
    "sol_annual_540_2 = minimize(injection, ig_540_2, bounds=Bounds_540, constraints=Cons)\n",
    "print('Result:', sol_annual_540_2.fun, '\\nParameter Values:', sol_annual_540_2.x)"
   ]
  },
  {
   "cell_type": "code",
   "execution_count": 18,
   "metadata": {},
   "outputs": [
    {
     "name": "stdout",
     "output_type": "stream",
     "text": [
      "Result: -43656.46283249074 \n",
      "Parameter Values: [1.57614080e+02 9.04751631e+00 1.26298401e+03 5.40000000e+02\n",
      " 6.89266168e-02 1.99879937e+02]\n"
     ]
    }
   ],
   "source": [
    "ig_540_3 = [157.5, 3, \n",
    "          1210, 540,\n",
    "         5, 200]\n",
    "sol_annual_540_3 = minimize(injection, ig_540_3, bounds=Bounds_540, constraints=Cons)\n",
    "print('Result:', sol_annual_540_3.fun, '\\nParameter Values:', sol_annual_540_3.x)"
   ]
  },
  {
   "cell_type": "code",
   "execution_count": 19,
   "metadata": {},
   "outputs": [
    {
     "name": "stdout",
     "output_type": "stream",
     "text": [
      "Result: -33625.0 \n",
      "Parameter Values: [ 250.    3. 1190.  540.    5.  150.]\n"
     ]
    }
   ],
   "source": [
    "ig_540_4 = [250, 3, \n",
    "          1190, 540,\n",
    "         5, 150]\n",
    "sol_annual_540_4 = minimize(injection, ig_540_4, bounds=Bounds_540, constraints=Cons)\n",
    "print('Result:', sol_annual_540_4.fun, '\\nParameter Values:', sol_annual_540_4.x)"
   ]
  },
  {
   "cell_type": "code",
   "execution_count": 20,
   "metadata": {},
   "outputs": [
    {
     "name": "stdout",
     "output_type": "stream",
     "text": [
      "Result: -78044.98982223065 \n",
      "Parameter Values: [ 331.23807238    4.05539553 1263.          540.            0.\n",
      "   99.75599427]\n"
     ]
    }
   ],
   "source": [
    "ig_540_5 = [350, 3, \n",
    "          1180, 520,\n",
    "         5, 100]\n",
    "sol_annual_540_5 = minimize(injection, ig_540_5, bounds=Bounds_540, constraints=Cons)\n",
    "print('Result:', sol_annual_540_5.fun, '\\nParameter Values:', sol_annual_540_5.x)"
   ]
  },
  {
   "cell_type": "code",
   "execution_count": 21,
   "metadata": {},
   "outputs": [
    {
     "name": "stdout",
     "output_type": "stream",
     "text": [
      "Result: 25000.0 \n",
      "Parameter Values: [   0.    3. 1250.  560.    5.  400.]\n"
     ]
    }
   ],
   "source": [
    "Bounds_560 = [B_L_g, B_T_g, \n",
    "          B_T_p, B_S_560,\n",
    "          B_T_s, B_L_s]\n",
    "ig_560_1 = [0, 3, \n",
    "          1250, 560,\n",
    "         5, 400]\n",
    "sol_annual_560_1 = minimize(injection, ig_560_1, bounds=Bounds_560, constraints=Cons)\n",
    "print('Result:', sol_annual_560_1.fun, '\\nParameter Values:', sol_annual_560_1.x)"
   ]
  },
  {
   "cell_type": "code",
   "execution_count": 22,
   "metadata": {},
   "outputs": [
    {
     "name": "stdout",
     "output_type": "stream",
     "text": [
      "Result: -58805.45955302322 \n",
      "Parameter Values: [ 147.55571799    9.84986527 1262.78121103  560.            0.\n",
      "  224.9534324 ]\n"
     ]
    }
   ],
   "source": [
    "ig_560_2 = [65.4, 3, \n",
    "          1230, 560,\n",
    "         5, 250]\n",
    "sol_annual_560_2 = minimize(injection, ig_560_2, bounds=Bounds_560, constraints=Cons)\n",
    "print('Result:', sol_annual_560_2.fun, '\\nParameter Values:', sol_annual_560_2.x)"
   ]
  },
  {
   "cell_type": "code",
   "execution_count": 23,
   "metadata": {},
   "outputs": [
    {
     "name": "stdout",
     "output_type": "stream",
     "text": [
      "Result: -54556.587996840826 \n",
      "Parameter Values: [ 157.6346693     9.29528495 1262.94896739  560.            0.\n",
      "  199.87467198]\n"
     ]
    }
   ],
   "source": [
    "ig_560_3 = [157.5, 3, \n",
    "          1210, 560,\n",
    "         5, 200]\n",
    "sol_annual_560_3 = minimize(injection, ig_560_3, bounds=Bounds_560, constraints=Cons)\n",
    "print('Result:', sol_annual_560_3.fun, '\\nParameter Values:', sol_annual_560_3.x)"
   ]
  },
  {
   "cell_type": "code",
   "execution_count": 24,
   "metadata": {},
   "outputs": [
    {
     "name": "stdout",
     "output_type": "stream",
     "text": [
      "Result: -53458.33333333337 \n",
      "Parameter Values: [ 250.    3. 1190.  560.    5.  150.]\n"
     ]
    }
   ],
   "source": [
    "ig_560_4 = [250, 3, \n",
    "          1190, 560,\n",
    "         5, 150]\n",
    "sol_annual_560_4 = minimize(injection, ig_560_4, bounds=Bounds_560, constraints=Cons)\n",
    "print('Result:', sol_annual_560_4.fun, '\\nParameter Values:', sol_annual_560_4.x)"
   ]
  },
  {
   "cell_type": "code",
   "execution_count": 25,
   "metadata": {},
   "outputs": [
    {
     "name": "stdout",
     "output_type": "stream",
     "text": [
      "Result: -15333.333333333372 \n",
      "Parameter Values: [ 350.    3. 1180.  560.    5.  100.]\n"
     ]
    }
   ],
   "source": [
    "ig_560_5 = [350, 3, \n",
    "          1180, 560,\n",
    "         5, 100]\n",
    "sol_annual_560_5 = minimize(injection, ig_560_5, bounds=Bounds_560, constraints=Cons)\n",
    "print('Result:', sol_annual_560_5.fun, '\\nParameter Values:', sol_annual_560_5.x)"
   ]
  },
  {
   "cell_type": "code",
   "execution_count": 26,
   "metadata": {},
   "outputs": [
    {
     "name": "stdout",
     "output_type": "stream",
     "text": [
      "Result: 4166.666666666667 \n",
      "Parameter Values: [   0.    3. 1250.  580.    5.  400.]\n"
     ]
    }
   ],
   "source": [
    "Bounds_580 = [B_L_g, B_T_g, \n",
    "          B_T_p, B_S_580,\n",
    "          B_T_s, B_L_s]\n",
    "ig_580_1 = [0, 3, \n",
    "          1250, 580,\n",
    "         5, 400]\n",
    "sol_annual_580_1 = minimize(injection, ig_580_1, bounds=Bounds_580, constraints=Cons)\n",
    "print('Result:', sol_annual_580_1.fun, '\\nParameter Values:', sol_annual_580_1.x)"
   ]
  },
  {
   "cell_type": "code",
   "execution_count": 27,
   "metadata": {},
   "outputs": [
    {
     "name": "stdout",
     "output_type": "stream",
     "text": [
      "Result: -57868.801726895035 \n",
      "Parameter Values: [1.49378069e+02 9.04834503e+00 1.25700844e+03 5.80000000e+02\n",
      " 7.41079188e-01 2.49953466e+02]\n"
     ]
    }
   ],
   "source": [
    "Bounds_580 = [B_L_g, B_T_g, \n",
    "          B_T_p, B_S_580,\n",
    "          B_T_s, B_L_s]\n",
    "ig_580_2 = [65.4, 3, \n",
    "          1230, 580,\n",
    "         5, 250]\n",
    "sol_annual_580_2 = minimize(injection, ig_580_2, bounds=Bounds_580, constraints=Cons)\n",
    "print('Result:', sol_annual_580_2.fun, '\\nParameter Values:', sol_annual_580_2.x)"
   ]
  },
  {
   "cell_type": "code",
   "execution_count": 28,
   "metadata": {},
   "outputs": [
    {
     "name": "stdout",
     "output_type": "stream",
     "text": [
      "Result: -58142.24205853476 \n",
      "Parameter Values: [ 157.61700728    9.60030878 1263.          580.            0.\n",
      "  199.87848889]\n"
     ]
    }
   ],
   "source": [
    "ig_580_3 = [157.5, 3, \n",
    "          1210, 580,\n",
    "         5, 200]\n",
    "sol_annual_580_3 = minimize(injection, ig_580_3, bounds=Bounds_580, constraints=Cons)\n",
    "print('Result:', sol_annual_580_3.fun, '\\nParameter Values:', sol_annual_580_3.x)"
   ]
  },
  {
   "cell_type": "code",
   "execution_count": 29,
   "metadata": {},
   "outputs": [
    {
     "name": "stdout",
     "output_type": "stream",
     "text": [
      "Result: -48367.57430002454 \n",
      "Parameter Values: [2.50040442e+02 6.14332830e+00 1.26300000e+03 5.80000000e+02\n",
      " 3.10046549e-02 1.49835261e+02]\n"
     ]
    }
   ],
   "source": [
    "ig_580_4 = [250, 3, \n",
    "          1190, 580,\n",
    "         5, 150]\n",
    "sol_annual_580_4 = minimize(injection, ig_580_4, bounds=Bounds_580, constraints=Cons)\n",
    "print('Result:', sol_annual_580_4.fun, '\\nParameter Values:', sol_annual_580_4.x)"
   ]
  },
  {
   "cell_type": "code",
   "execution_count": 30,
   "metadata": {},
   "outputs": [
    {
     "name": "stdout",
     "output_type": "stream",
     "text": [
      "Result: -86156.08841059374 \n",
      "Parameter Values: [ 338.48782738    4.09101836 1223.98646386  580.            0.\n",
      "   99.74814346]\n"
     ]
    }
   ],
   "source": [
    "ig_580_5 = [350, 3, \n",
    "          1180, 580,\n",
    "         5, 100]\n",
    "sol_annual_580_5 = minimize(injection, ig_580_5, bounds=Bounds_580, constraints=Cons)\n",
    "print('Result:', sol_annual_580_5.fun, '\\nParameter Values:', sol_annual_580_5.x)"
   ]
  },
  {
   "cell_type": "code",
   "execution_count": 31,
   "metadata": {},
   "outputs": [
    {
     "name": "stdout",
     "output_type": "stream",
     "text": [
      "Result: -16666.666666666668 \n",
      "Parameter Values: [   0.    3. 1250.  600.    5.  400.]\n"
     ]
    }
   ],
   "source": [
    "Bounds_600 = [B_L_g, B_T_g, \n",
    "          B_T_p, B_S_600,\n",
    "          B_T_s, B_L_s]\n",
    "ig_600_1 = [0, 3, \n",
    "          1250, 600,\n",
    "         5, 400]\n",
    "\n",
    "sol_annual_600_1 = minimize(injection, ig_600_1, bounds=Bounds_600, constraints=Cons)\n",
    "print('Result:', sol_annual_600_1.fun, '\\nParameter Values:', sol_annual_600_1.x)"
   ]
  },
  {
   "cell_type": "code",
   "execution_count": 32,
   "metadata": {},
   "outputs": [
    {
     "name": "stdout",
     "output_type": "stream",
     "text": [
      "Result: -79678.74692687101 \n",
      "Parameter Values: [ 144.25980711    7.57417162 1247.49617941  600.            1.9104848\n",
      "  249.95900571]\n"
     ]
    }
   ],
   "source": [
    "Bounds_600 = [B_L_g, B_T_g, \n",
    "          B_T_p, B_S_600,\n",
    "          B_T_s, B_L_s]\n",
    "ig_600_2 = [65.4, 3, \n",
    "          1230, 600,\n",
    "         5, 250]\n",
    "\n",
    "sol_annual_600_2 = minimize(injection, ig_600_2, bounds=Bounds_600, constraints=Cons)\n",
    "print('Result:', sol_annual_600_2.fun, '\\nParameter Values:', sol_annual_600_2.x)"
   ]
  },
  {
   "cell_type": "code",
   "execution_count": 33,
   "metadata": {},
   "outputs": [
    {
     "name": "stdout",
     "output_type": "stream",
     "text": [
      "Result: -61496.225618625176 \n",
      "Parameter Values: [ 157.63306864    9.90689447 1263.          600.            0.\n",
      "  199.87831694]\n"
     ]
    }
   ],
   "source": [
    "ig_600_3 = [157.5, 3, \n",
    "          1210, 580,\n",
    "         5, 200]\n",
    "sol_annual_600_3 = minimize(injection, ig_600_3, bounds=Bounds_600, constraints=Cons)\n",
    "print('Result:', sol_annual_600_3.fun, '\\nParameter Values:', sol_annual_600_3.x)"
   ]
  },
  {
   "cell_type": "code",
   "execution_count": 34,
   "metadata": {},
   "outputs": [
    {
     "name": "stdout",
     "output_type": "stream",
     "text": [
      "Result: -77748.20779048023 \n",
      "Parameter Values: [ 250.02068612    6.06793409 1262.98601753  600.            0.\n",
      "  149.83446207]\n"
     ]
    }
   ],
   "source": [
    "ig_600_4 = [250, 3, \n",
    "          1190, 600,\n",
    "         5, 150]\n",
    "sol_annual_600_4 = minimize(injection, ig_600_4, bounds=Bounds_600, constraints=Cons)\n",
    "print('Result:', sol_annual_600_4.fun, '\\nParameter Values:', sol_annual_600_4.x)"
   ]
  },
  {
   "cell_type": "code",
   "execution_count": 35,
   "metadata": {},
   "outputs": [
    {
     "name": "stdout",
     "output_type": "stream",
     "text": [
      "Result: -54666.666666666686 \n",
      "Parameter Values: [ 350.    3. 1180.  600.    5.  100.]\n"
     ]
    }
   ],
   "source": [
    "ig_600_5 = [350, 3, \n",
    "          1180, 600,\n",
    "         5, 100]\n",
    "sol_annual_600_5 = minimize(injection, ig_600_5, bounds=Bounds_600, constraints=Cons)\n",
    "print('Result:', sol_annual_600_5.fun, '\\nParameter Values:', sol_annual_600_5.x)"
   ]
  },
  {
   "cell_type": "code",
   "execution_count": 36,
   "metadata": {},
   "outputs": [
    {
     "data": {
      "text/html": [
       "<div>\n",
       "<table border=\"1\" class=\"dataframe\">\n",
       "  <thead>\n",
       "    <tr style=\"text-align: right;\">\n",
       "      <th></th>\n",
       "      <th>Nameplate</th>\n",
       "      <th>Net Injection-1</th>\n",
       "      <th>Net Injection-2</th>\n",
       "      <th>Net Injection-3</th>\n",
       "      <th>Net Injection-4</th>\n",
       "      <th>Net Injection-5</th>\n",
       "    </tr>\n",
       "  </thead>\n",
       "  <tbody>\n",
       "    <tr>\n",
       "      <th>0</th>\n",
       "      <td>500</td>\n",
       "      <td>-12458.017253</td>\n",
       "      <td>-50541.723053</td>\n",
       "      <td>-49490.214253</td>\n",
       "      <td>-57650.252993</td>\n",
       "      <td>-80053.727417</td>\n",
       "    </tr>\n",
       "    <tr>\n",
       "      <th>1</th>\n",
       "      <td>520</td>\n",
       "      <td>-56109.898937</td>\n",
       "      <td>-39921.790212</td>\n",
       "      <td>-53040.392949</td>\n",
       "      <td>-13791.666667</td>\n",
       "      <td>-25123.149925</td>\n",
       "    </tr>\n",
       "    <tr>\n",
       "      <th>2</th>\n",
       "      <td>540</td>\n",
       "      <td>-75199.765747</td>\n",
       "      <td>-150280.789780</td>\n",
       "      <td>-43656.462832</td>\n",
       "      <td>-33625.000000</td>\n",
       "      <td>-78044.989822</td>\n",
       "    </tr>\n",
       "    <tr>\n",
       "      <th>3</th>\n",
       "      <td>560</td>\n",
       "      <td>25000.000000</td>\n",
       "      <td>-58805.459553</td>\n",
       "      <td>-54556.587997</td>\n",
       "      <td>-53458.333333</td>\n",
       "      <td>-15333.333333</td>\n",
       "    </tr>\n",
       "    <tr>\n",
       "      <th>4</th>\n",
       "      <td>580</td>\n",
       "      <td>4166.666667</td>\n",
       "      <td>-57868.801727</td>\n",
       "      <td>-58142.242059</td>\n",
       "      <td>-48367.574300</td>\n",
       "      <td>-86156.088411</td>\n",
       "    </tr>\n",
       "    <tr>\n",
       "      <th>5</th>\n",
       "      <td>600</td>\n",
       "      <td>-16666.666667</td>\n",
       "      <td>-79678.746927</td>\n",
       "      <td>-61496.225619</td>\n",
       "      <td>-77748.207790</td>\n",
       "      <td>-54666.666667</td>\n",
       "    </tr>\n",
       "  </tbody>\n",
       "</table>\n",
       "</div>"
      ],
      "text/plain": [
       "   Nameplate  Net Injection-1  Net Injection-2  Net Injection-3  \\\n",
       "0        500    -12458.017253    -50541.723053    -49490.214253   \n",
       "1        520    -56109.898937    -39921.790212    -53040.392949   \n",
       "2        540    -75199.765747   -150280.789780    -43656.462832   \n",
       "3        560     25000.000000    -58805.459553    -54556.587997   \n",
       "4        580      4166.666667    -57868.801727    -58142.242059   \n",
       "5        600    -16666.666667    -79678.746927    -61496.225619   \n",
       "\n",
       "   Net Injection-4  Net Injection-5  \n",
       "0    -57650.252993    -80053.727417  \n",
       "1    -13791.666667    -25123.149925  \n",
       "2    -33625.000000    -78044.989822  \n",
       "3    -53458.333333    -15333.333333  \n",
       "4    -48367.574300    -86156.088411  \n",
       "5    -77748.207790    -54666.666667  "
      ]
     },
     "execution_count": 36,
     "metadata": {},
     "output_type": "execute_result"
    }
   ],
   "source": [
    "a = {'Nameplate':[500,520,540,560,580,600], \n",
    "    'Net Injection-1':[sol_annual_500_1.fun, sol_annual_520_1.fun, sol_annual_540_1.fun, sol_annual_560_1.fun,\n",
    "                     sol_annual_580_1.fun, sol_annual_600_1.fun],\n",
    "    'Net Injection-2':[sol_annual_500_2.fun, sol_annual_520_2.fun, sol_annual_540_2.fun, sol_annual_560_2.fun,\n",
    "                     sol_annual_580_2.fun, sol_annual_600_2.fun],\n",
    "    'Net Injection-3':[sol_annual_500_3.fun, sol_annual_520_3.fun, sol_annual_540_3.fun, sol_annual_560_3.fun,\n",
    "                     sol_annual_580_3.fun, sol_annual_600_3.fun],\n",
    "    'Net Injection-4':[sol_annual_500_4.fun, sol_annual_520_4.fun, sol_annual_540_4.fun, sol_annual_560_4.fun,\n",
    "                     sol_annual_580_4.fun, sol_annual_600_4.fun],\n",
    "    'Net Injection-5':[sol_annual_500_5.fun, sol_annual_520_5.fun, sol_annual_540_5.fun, sol_annual_560_5.fun,\n",
    "                     sol_annual_580_5.fun, sol_annual_600_5.fun]}\n",
    "data = pd.DataFrame(a)\n",
    "data"
   ]
  },
  {
   "cell_type": "code",
   "execution_count": 37,
   "metadata": {},
   "outputs": [
    {
     "data": {
      "text/html": [
       "<div>\n",
       "<table border=\"1\" class=\"dataframe\">\n",
       "  <thead>\n",
       "    <tr style=\"text-align: right;\">\n",
       "      <th></th>\n",
       "      <th>Nameplate</th>\n",
       "      <th>Net Injection-1</th>\n",
       "      <th>Net Injection-2</th>\n",
       "      <th>Net Injection-3</th>\n",
       "      <th>Net Injection-4</th>\n",
       "      <th>Net Injection-5</th>\n",
       "    </tr>\n",
       "  </thead>\n",
       "  <tbody>\n",
       "    <tr>\n",
       "      <th>0</th>\n",
       "      <td>500</td>\n",
       "      <td>4.095449</td>\n",
       "      <td>4.703650</td>\n",
       "      <td>4.694519</td>\n",
       "      <td>4.760801</td>\n",
       "      <td>4.903382</td>\n",
       "    </tr>\n",
       "    <tr>\n",
       "      <th>1</th>\n",
       "      <td>520</td>\n",
       "      <td>4.749039</td>\n",
       "      <td>4.601210</td>\n",
       "      <td>4.724607</td>\n",
       "      <td>4.139617</td>\n",
       "      <td>4.400074</td>\n",
       "    </tr>\n",
       "    <tr>\n",
       "      <th>2</th>\n",
       "      <td>540</td>\n",
       "      <td>4.876216</td>\n",
       "      <td>5.176903</td>\n",
       "      <td>4.640049</td>\n",
       "      <td>4.526662</td>\n",
       "      <td>4.892345</td>\n",
       "    </tr>\n",
       "    <tr>\n",
       "      <th>3</th>\n",
       "      <td>560</td>\n",
       "      <td>4.397940</td>\n",
       "      <td>4.769418</td>\n",
       "      <td>4.736847</td>\n",
       "      <td>4.728015</td>\n",
       "      <td>4.185637</td>\n",
       "    </tr>\n",
       "    <tr>\n",
       "      <th>4</th>\n",
       "      <td>580</td>\n",
       "      <td>3.619789</td>\n",
       "      <td>4.762444</td>\n",
       "      <td>4.764492</td>\n",
       "      <td>4.684554</td>\n",
       "      <td>4.935286</td>\n",
       "    </tr>\n",
       "    <tr>\n",
       "      <th>5</th>\n",
       "      <td>600</td>\n",
       "      <td>4.221849</td>\n",
       "      <td>4.901342</td>\n",
       "      <td>4.788848</td>\n",
       "      <td>4.890690</td>\n",
       "      <td>4.737723</td>\n",
       "    </tr>\n",
       "  </tbody>\n",
       "</table>\n",
       "</div>"
      ],
      "text/plain": [
       "   Nameplate  Net Injection-1  Net Injection-2  Net Injection-3  \\\n",
       "0        500         4.095449         4.703650         4.694519   \n",
       "1        520         4.749039         4.601210         4.724607   \n",
       "2        540         4.876216         5.176903         4.640049   \n",
       "3        560         4.397940         4.769418         4.736847   \n",
       "4        580         3.619789         4.762444         4.764492   \n",
       "5        600         4.221849         4.901342         4.788848   \n",
       "\n",
       "   Net Injection-4  Net Injection-5  \n",
       "0         4.760801         4.903382  \n",
       "1         4.139617         4.400074  \n",
       "2         4.526662         4.892345  \n",
       "3         4.728015         4.185637  \n",
       "4         4.684554         4.935286  \n",
       "5         4.890690         4.737723  "
      ]
     },
     "execution_count": 37,
     "metadata": {},
     "output_type": "execute_result"
    }
   ],
   "source": [
    "data['Net Injection-1'] = np.log10(abs(data['Net Injection-1']))\n",
    "data['Net Injection-2'] = np.log10(abs(data['Net Injection-2']))\n",
    "data['Net Injection-3'] = np.log10(abs(data['Net Injection-3']))\n",
    "data['Net Injection-4'] = np.log10(abs(data['Net Injection-4']))\n",
    "data['Net Injection-5'] = np.log10(abs(data['Net Injection-5']))\n",
    "data"
   ]
  },
  {
   "cell_type": "code",
   "execution_count": 38,
   "metadata": {},
   "outputs": [
    {
     "data": {
      "text/plain": [
       "<matplotlib.legend.Legend at 0x7f730aeee7b8>"
      ]
     },
     "execution_count": 38,
     "metadata": {},
     "output_type": "execute_result"
    },
    {
     "data": {
      "image/png": "[encoded data removed]",
      "text/plain": [
       "<matplotlib.figure.Figure at 0x7f730afebfd0>"
      ]
     },
     "metadata": {},
     "output_type": "display_data"
    }
   ],
   "source": [
    "pl.figure(figsize=(8,5))\n",
    "pl.plot(data['Nameplate'], data['Net Injection-1'], '-', c='b',label='1')\n",
    "pl.plot(data['Nameplate'], data['Net Injection-2'], '-', c='g',label='2')\n",
    "pl.plot(data['Nameplate'], data['Net Injection-3'], '-', c='r', label='3')\n",
    "pl.plot(data['Nameplate'], data['Net Injection-4'], '-', c='y', label='4')\n",
    "pl.plot(data['Nameplate'], data['Net Injection-5'], '-', c='black', label='5')\n",
    "\n",
    "pl.xlabel('Nameplate')\n",
    "pl.ylabel('Net Injection (Log10 applied)')\n",
    "pl.title('Simple Formula Optimization Result(Log10 applied)')\n",
    "pl.legend()"
   ]
  },
  {
   "cell_type": "code",
   "execution_count": null,
   "metadata": {},
   "outputs": [],
   "source": []
  }
 ],
 "metadata": {
  "kernelspec": {
   "display_name": "PUI2016_Python3",
   "language": "python",
   "name": "pui2016_python3"
  },
  "language_info": {
   "codemirror_mode": {
    "name": "ipython",
    "version": 3
   },
   "file_extension": ".py",
   "mimetype": "text/x-python",
   "name": "python",
   "nbconvert_exporter": "python",
   "pygments_lexer": "ipython3",
   "version": "3.5.4"
  }
 },
 "nbformat": 4,
 "nbformat_minor": 2
}
