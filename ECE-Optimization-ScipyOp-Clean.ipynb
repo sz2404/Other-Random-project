{
 "cells": [
  {
   "cell_type": "code",
   "execution_count": 1,
   "metadata": {},
   "outputs": [
    {
     "name": "stdout",
     "output_type": "stream",
     "text": [
      "Populating the interactive namespace from numpy and matplotlib\n"
     ]
    }
   ],
   "source": [
    "import scipy as sp\n",
    "import scipy.optimize as optimize\n",
    "from scipy.optimize import minimize\n",
    "import pandas as pd\n",
    "import numpy as np\n",
    "import sys\n",
    "import os\n",
    "import pylab as pl\n",
    "%pylab inline"
   ]
  },
  {
   "cell_type": "code",
   "execution_count": 2,
   "metadata": {},
   "outputs": [
    {
     "data": {
      "text/plain": [
       "'p = (T_p * S * 30 - 30 * L_s * T_s)/1.2 - L_g * T_g * 30/0.95'"
      ]
     },
     "execution_count": 2,
     "metadata": {},
     "output_type": "execute_result"
    }
   ],
   "source": [
    "# The formulat\n",
    "'p = (T_p * S * 30 - 30 * L_s * T_s)/1.2 - L_g * T_g * 30/0.95'"
   ]
  },
  {
   "cell_type": "code",
   "execution_count": 3,
   "metadata": {},
   "outputs": [],
   "source": [
    "# Factor: kWh/kWp; 12 month; number obtained from Helioscope\n",
    "T_p = np.array([1.9, 2.73, 2.91, 4.04, 5.17, 6.08, 5.95, 5.22, 4.26, 3.15, 2.11, 1.59])"
   ]
  },
  {
   "cell_type": "code",
   "execution_count": 4,
   "metadata": {},
   "outputs": [],
   "source": [
    "# System Size\n",
    "S = np.array([500,520,540,560,580,600])"
   ]
  },
  {
   "cell_type": "code",
   "execution_count": 5,
   "metadata": {},
   "outputs": [],
   "source": [
    "# Overall \n",
    "# System Size\n",
    "\n",
    "B_S_1 = (500,500)\n",
    "B_S_2 = (520,520)\n",
    "B_S_3 = (540,540)\n",
    "B_S_4 = (560,560)\n",
    "B_S_5 = (580,580)\n",
    "B_S_6 = (600,600)"
   ]
  },
  {
   "cell_type": "code",
   "execution_count": 6,
   "metadata": {},
   "outputs": [],
   "source": [
    "# Load charged by Grid\n",
    "# Four Express 100\n",
    "B_L_g = (15.4, 238.5)\n",
    "# Section into 3 range for each, 12 in total to test. Each worth 33.3%"
   ]
  },
  {
   "cell_type": "code",
   "execution_count": 7,
   "metadata": {},
   "outputs": [],
   "source": [
    "# Load charged by solar, bound\n",
    "B_L_s = (7.7,388.5)\n",
    "\n",
    "# Section into 4 ranges for each, 20 in total to test. Each worth 24%"
   ]
  },
  {
   "cell_type": "markdown",
   "metadata": {},
   "source": [
    "## January"
   ]
  },
  {
   "cell_type": "code",
   "execution_count": 8,
   "metadata": {},
   "outputs": [],
   "source": [
    "# January\n",
    "def injection1(x):\n",
    "    \"\"\"The injection function\"\"\"\n",
    "\n",
    "    L_g = x[0]\n",
    "    T_g = x[1]\n",
    "    S = x[2]\n",
    "    L_s = x[3]\n",
    "    T_s = x[4]\n",
    "\n",
    "    return (L_g * T_g * 30/0.95 - (1.9 * S * 30 - 30 * L_s * T_s)/1.2)"
   ]
  },
  {
   "cell_type": "code",
   "execution_count": 9,
   "metadata": {},
   "outputs": [],
   "source": [
    "# Solar injection with credit is capped at 110% of consumption\n",
    "def constraint1(x):\n",
    "    return 31 * x[0] * x[1] * 1.1/0.95 - 31 * (1.9 * x[2] - x[3] * x[4])/1.2\n",
    "\n",
    "\n",
    "#Solar Size\n",
    "B_S_1 = (500,500)\n",
    "# Hours charging from solar for Jan\n",
    "B_T_s = (1,5)\n",
    "# Hours charging from grid, if at least one truck will be charged per day\n",
    "B_T_g = (2,15)\n",
    "\n",
    "Con1 = {'type':'ineq', 'fun':constraint1}\n",
    "Cons = [Con1]\n",
    "\n",
    "Bounds = [B_L_g, B_T_g, B_S_1, B_L_s, B_T_s]"
   ]
  },
  {
   "cell_type": "code",
   "execution_count": 10,
   "metadata": {},
   "outputs": [],
   "source": [
    "ig_Jan = [300,5,500,200,5]\n",
    "sol_Jan = minimize(injection1, ig_Jan, bounds=Bounds, constraints=Cons)"
   ]
  },
  {
   "cell_type": "code",
   "execution_count": 11,
   "metadata": {},
   "outputs": [
    {
     "name": "stdout",
     "output_type": "stream",
     "text": [
      "     fun: -2141.5909093733353\n",
      "     jac: array([ 130.046875  , 5200.3828125 ,  -47.49975586,   25.        ,\n",
      "        192.5       ,    0.        ])\n",
      " message: 'Optimization terminated successfully.'\n",
      "    nfev: 115\n",
      "     nit: 14\n",
      "    njev: 12\n",
      "  status: 0\n",
      " success: True\n",
      "       x: array([164.67877937,   4.11814113, 500.        ,   7.7       ,\n",
      "         1.        ])\n"
     ]
    }
   ],
   "source": [
    "print(sol_Jan)"
   ]
  },
  {
   "cell_type": "code",
   "execution_count": 12,
   "metadata": {},
   "outputs": [
    {
     "name": "stdout",
     "output_type": "stream",
     "text": [
      "Result: -2228.311278124562 Values: [199.79520346   3.53115384 520.           7.70000683   1.00000614]\n"
     ]
    }
   ],
   "source": [
    "Bounds = [B_L_g, B_T_g, B_S_2, B_L_s, B_T_s]\n",
    "ig_Jan = [200,5,520,50,2]\n",
    "sol_Jan = minimize(injection1, ig_Jan, bounds=Bounds, constraints=Cons)\n",
    "print('Result:', sol_Jan.fun, 'Values:',sol_Jan.x)"
   ]
  },
  {
   "cell_type": "code",
   "execution_count": 13,
   "metadata": {},
   "outputs": [
    {
     "name": "stdout",
     "output_type": "stream",
     "text": [
      "Result: -2313.9506229460458 Values: [199.93545194   3.66557829 540.           7.70000023   1.00000178]\n"
     ]
    }
   ],
   "source": [
    "Bounds = [B_L_g, B_T_g, B_S_3, B_L_s, B_T_s]\n",
    "ig_Jan = [200,5,540,50,2]\n",
    "sol_Jan = minimize(injection1, ig_Jan, bounds=Bounds, constraints=Cons)\n",
    "print('Result:', sol_Jan.fun, 'Values:',sol_Jan.x)"
   ]
  },
  {
   "cell_type": "code",
   "execution_count": 14,
   "metadata": {},
   "outputs": [
    {
     "name": "stdout",
     "output_type": "stream",
     "text": [
      "Result: -2400.857974796316 Values: [199.97602088   3.80150737 560.           7.7          1.00000229]\n"
     ]
    }
   ],
   "source": [
    "Bounds = [B_L_g, B_T_g, B_S_4, B_L_s, B_T_s]\n",
    "ig_Jan = [200,5,540,50,2]\n",
    "sol_Jan = minimize(injection1, ig_Jan, bounds=Bounds, constraints=Cons)\n",
    "print('Result:', sol_Jan.fun, 'Values:',sol_Jan.x)"
   ]
  },
  {
   "cell_type": "code",
   "execution_count": 15,
   "metadata": {},
   "outputs": [
    {
     "name": "stdout",
     "output_type": "stream",
     "text": [
      "Result: -2487.231792513401 Values: [199.97002938   3.93838262 580.           7.70000645   1.        ]\n"
     ]
    }
   ],
   "source": [
    "Bounds = [B_L_g, B_T_g, B_S_5, B_L_s, B_T_s]\n",
    "ig_Jan = [200,5,540,50,2]\n",
    "sol_Jan = minimize(injection1, ig_Jan, bounds=Bounds, constraints=Cons)\n",
    "print('Result:', sol_Jan.fun, 'Values:',sol_Jan.x)"
   ]
  },
  {
   "cell_type": "code",
   "execution_count": 16,
   "metadata": {},
   "outputs": [
    {
     "name": "stdout",
     "output_type": "stream",
     "text": [
      "Result: -2573.5862241043906 Values: [199.98474975   4.07484691 600.           7.70003898   1.        ]\n"
     ]
    }
   ],
   "source": [
    "Bounds = [B_L_g, B_T_g, B_S_6, B_L_s, B_T_s]\n",
    "ig_Jan = [200,5,540,50,2]\n",
    "sol_Jan = minimize(injection1, ig_Jan, bounds=Bounds, constraints=Cons)\n",
    "print('Result:', sol_Jan.fun, 'Values:',sol_Jan.x)"
   ]
  },
  {
   "cell_type": "markdown",
   "metadata": {},
   "source": [
    "## February"
   ]
  },
  {
   "cell_type": "code",
   "execution_count": 17,
   "metadata": {},
   "outputs": [],
   "source": [
    "def injection2(x):\n",
    "    \"\"\"The injection function\"\"\"\n",
    "\n",
    "    L_g = x[0]\n",
    "    T_g = x[1]\n",
    "    S = x[2]\n",
    "    L_s = x[3]\n",
    "    T_s = x[4]\n",
    "\n",
    "    return (L_g * T_g * 30/0.95 - (2.73 * S * 30 - 30 * L_s * T_s)/1.2)\n",
    "# Solar injection with credit is capped at 110% of consumption\n",
    "def constraint2(x):\n",
    "    return 31 * x[0] * x[1] * 1.1/0.95 - 31 * (2.73 * x[2] - x[3] * x[4])/1.2\n",
    "Con2 = {'type':'ineq', 'fun':constraint2}\n",
    "Cons = [Con2]"
   ]
  },
  {
   "cell_type": "code",
   "execution_count": 18,
   "metadata": {},
   "outputs": [
    {
     "name": "stdout",
     "output_type": "stream",
     "text": [
      "Result: -3084.8614285626063 Values: [199.99553062   4.88431857 500.           7.7          1.00000049]\n"
     ]
    }
   ],
   "source": [
    "Bounds=[B_L_g, B_T_g, B_S_1, B_L_s, B_T_s]\n",
    "ig_Feb = [200,5,500,50,2]\n",
    "sol_Feb = minimize(injection2, ig_Feb, bounds=Bounds, constraints=Cons)\n",
    "print('Result:', sol_Feb.fun, 'Values:',sol_Feb.x)"
   ]
  },
  {
   "cell_type": "code",
   "execution_count": 19,
   "metadata": {},
   "outputs": [
    {
     "name": "stdout",
     "output_type": "stream",
     "text": [
      "Result: -3208.681209303526 Values: [200.00305793   5.08065105 520.           7.70023035   1.        ]\n"
     ]
    }
   ],
   "source": [
    "Bounds=[B_L_g, B_T_g, B_S_2, B_L_s, B_T_s]\n",
    "ig_Feb = [200,5,520,50,2]\n",
    "sol_Feb = minimize(injection2, ig_Feb, bounds=Bounds, constraints=Cons)\n",
    "print('Result:', sol_Feb.fun, 'Values:',sol_Feb.x)"
   ]
  },
  {
   "cell_type": "code",
   "execution_count": 20,
   "metadata": {},
   "outputs": [
    {
     "name": "stdout",
     "output_type": "stream",
     "text": [
      "Result: -3333.4157752524625 Values: [200.01535718   5.27669983 540.           7.7          1.        ]\n"
     ]
    }
   ],
   "source": [
    "Bounds=[B_L_g, B_T_g, B_S_3, B_L_s, B_T_s]\n",
    "ig_Feb = [200,5,540,50,2]\n",
    "sol_Feb = minimize(injection2, ig_Feb, bounds=Bounds, constraints=Cons)\n",
    "print('Result:', sol_Feb.fun, 'Values:',sol_Feb.x)"
   ]
  },
  {
   "cell_type": "code",
   "execution_count": 21,
   "metadata": {},
   "outputs": [
    {
     "name": "stdout",
     "output_type": "stream",
     "text": [
      "Result: -3457.300168717964 Values: [200.01101771   5.47331251 560.           7.70023881   1.        ]\n"
     ]
    }
   ],
   "source": [
    "Bounds=[B_L_g, B_T_g, B_S_4, B_L_s, B_T_s]\n",
    "ig_Feb = [200,5,560,50,2]\n",
    "sol_Feb = minimize(injection2, ig_Feb, bounds=Bounds, constraints=Cons)\n",
    "print('Result:', sol_Feb.fun, 'Values:',sol_Feb.x)"
   ]
  },
  {
   "cell_type": "code",
   "execution_count": 22,
   "metadata": {},
   "outputs": [
    {
     "name": "stdout",
     "output_type": "stream",
     "text": [
      "Result: -3582.809578027438 Values: [200.01057454   5.66956683 580.           7.7          1.00003463]\n"
     ]
    }
   ],
   "source": [
    "Bounds=[B_L_g, B_T_g, B_S_5, B_L_s, B_T_s]\n",
    "ig_Feb = [200,5,580,50,2]\n",
    "sol_Feb = minimize(injection2, ig_Feb, bounds=Bounds, constraints=Cons)\n",
    "print('Result:', sol_Feb.fun, 'Values:',sol_Feb.x)"
   ]
  },
  {
   "cell_type": "code",
   "execution_count": 23,
   "metadata": {},
   "outputs": [
    {
     "name": "stdout",
     "output_type": "stream",
     "text": [
      "Result: -3724.756780799602 Values: [200.01491476   5.86278641 600.           7.7742891    1.        ]\n"
     ]
    }
   ],
   "source": [
    "Bounds=[B_L_g, B_T_g, B_S_6, B_L_s, B_T_s]\n",
    "ig_Feb = [200,5,600,50,2]\n",
    "sol_Feb = minimize(injection2, ig_Feb, bounds=Bounds, constraints=Cons)\n",
    "print('Result:', sol_Feb.fun, 'Values:',sol_Feb.x)"
   ]
  },
  {
   "cell_type": "markdown",
   "metadata": {},
   "source": [
    "## March"
   ]
  },
  {
   "cell_type": "code",
   "execution_count": 24,
   "metadata": {},
   "outputs": [],
   "source": [
    "def injection3(x):\n",
    "    \"\"\"The injection function\"\"\"\n",
    "\n",
    "    L_g = x[0]\n",
    "    T_g = x[1]\n",
    "    S = x[2]\n",
    "    L_s = x[3]\n",
    "    T_s = x[4]\n",
    "\n",
    "    return (L_g * T_g * 30/0.95 - (2.91 * S * 30 - 30 * L_s * T_s)/1.2)\n",
    "# Solar injection with credit is capped at 110% of consumption\n",
    "def constraint3(x):\n",
    "    return 31 * x[0] * x[1] * 1.1/0.95 - 31 * (2.91 * x[2] - x[3] * x[4])/1.2\n",
    "\n",
    "Con3 = {'type':'ineq', 'fun':constraint3}\n",
    "Cons = [Con3]"
   ]
  },
  {
   "cell_type": "code",
   "execution_count": 25,
   "metadata": {},
   "outputs": [
    {
     "name": "stdout",
     "output_type": "stream",
     "text": [
      "Result: -3289.5269428618485 Values: [200.00408988   5.2079474  500.           7.70004288   1.        ]\n"
     ]
    }
   ],
   "source": [
    "Bounds=[B_L_g, B_T_g, B_S_1, B_L_s, B_T_s]\n",
    "ig_Mar = [200,5,500,50,2]\n",
    "sol_Mar = minimize(injection3, ig_Mar, bounds=Bounds, constraints=Cons)\n",
    "print('Result:', sol_Mar.fun, 'Values:',sol_Mar.x)"
   ]
  },
  {
   "cell_type": "code",
   "execution_count": 26,
   "metadata": {},
   "outputs": [
    {
     "name": "stdout",
     "output_type": "stream",
     "text": [
      "Result: -3426.222292106635 Values: [200.00432819   5.41663406 520.           7.70868036   1.        ]\n"
     ]
    }
   ],
   "source": [
    "Bounds=[B_L_g, B_T_g, B_S_2, B_L_s, B_T_s]\n",
    "ig_Mar = [200,5,520,50,2]\n",
    "sol_Mar = minimize(injection3, ig_Mar, bounds=Bounds, constraints=Cons)\n",
    "print('Result:', sol_Mar.fun, 'Values:',sol_Mar.x)"
   ]
  },
  {
   "cell_type": "code",
   "execution_count": 27,
   "metadata": {},
   "outputs": [
    {
     "name": "stdout",
     "output_type": "stream",
     "text": [
      "Result: -3554.8293150884274 Values: [200.00967931   5.62652324 540.           7.70058403   1.        ]\n"
     ]
    }
   ],
   "source": [
    "Bounds=[B_L_g, B_T_g, B_S_3, B_L_s, B_T_s]\n",
    "ig_Mar = [200,5,540,50,2]\n",
    "sol_Mar = minimize(injection3, ig_Mar, bounds=Bounds, constraints=Cons)\n",
    "print('Result:', sol_Mar.fun, 'Values:',sol_Mar.x)"
   ]
  },
  {
   "cell_type": "code",
   "execution_count": 28,
   "metadata": {},
   "outputs": [
    {
     "name": "stdout",
     "output_type": "stream",
     "text": [
      "Result: -3707.0538003581314 Values: [200.02694963   5.83228147 560.           7.70079831   1.00000437]\n"
     ]
    }
   ],
   "source": [
    "Bounds=[B_L_g, B_T_g, B_S_4, B_L_s, B_T_s]\n",
    "ig_Mar = [200,5,560,50,2]\n",
    "sol_Mar = minimize(injection3, ig_Mar, bounds=Bounds, constraints=Cons)\n",
    "print('Result:', sol_Mar.fun, 'Values:',sol_Mar.x)"
   ]
  },
  {
   "cell_type": "code",
   "execution_count": 29,
   "metadata": {},
   "outputs": [
    {
     "name": "stdout",
     "output_type": "stream",
     "text": [
      "Result: -3819.2348081554665 Values: [200.00996665   6.04537977 580.           7.70066224   1.        ]\n"
     ]
    }
   ],
   "source": [
    "Bounds=[B_L_g, B_T_g, B_S_5, B_L_s, B_T_s]\n",
    "ig_Mar = [200,5,580,50,2]\n",
    "sol_Mar = minimize(injection3, ig_Mar, bounds=Bounds, constraints=Cons)\n",
    "print('Result:', sol_Mar.fun, 'Values:',sol_Mar.x)"
   ]
  },
  {
   "cell_type": "code",
   "execution_count": 30,
   "metadata": {},
   "outputs": [
    {
     "name": "stdout",
     "output_type": "stream",
     "text": [
      "Result: -3951.380347831124 Values: [200.01129129   6.25478249 600.           7.7          1.        ]\n"
     ]
    }
   ],
   "source": [
    "Bounds=[B_L_g, B_T_g, B_S_6, B_L_s, B_T_s]\n",
    "ig_Mar = [200,5,600,50,2]\n",
    "sol_Mar = minimize(injection3, ig_Mar, bounds=Bounds, constraints=Cons)\n",
    "print('Result:', sol_Mar.fun, 'Values:',sol_Mar.x)"
   ]
  },
  {
   "cell_type": "markdown",
   "metadata": {},
   "source": [
    "## April"
   ]
  },
  {
   "cell_type": "code",
   "execution_count": 31,
   "metadata": {},
   "outputs": [],
   "source": [
    "def injection4(x):\n",
    "    \"\"\"The injection function\"\"\"\n",
    "\n",
    "    L_g = x[0]\n",
    "    T_g = x[1]\n",
    "    S = x[2]\n",
    "    L_s = x[3]\n",
    "    T_s = x[4]\n",
    "\n",
    "    return (L_g * T_g * 30/0.95 - (4.04 * S * 30 - 30 * L_s * T_s)/1.2)\n",
    "# Solar injection with credit is capped at 110% of consumption\n",
    "def constraint4(x):\n",
    "    return 31 * x[0] * x[1] * 1.1/0.95 - 31 * (4.04 * x[2] - x[3] * x[4])/1.2\n",
    "\n",
    "Con4 = {'type':'ineq', 'fun':constraint4}\n",
    "Cons = [Con4]"
   ]
  },
  {
   "cell_type": "code",
   "execution_count": 32,
   "metadata": {},
   "outputs": [
    {
     "name": "stdout",
     "output_type": "stream",
     "text": [
      "Result: -4574.4038936826255 Values: [199.99475901   7.24126327 500.           7.70000831   1.        ]\n"
     ]
    }
   ],
   "source": [
    "Bounds=[B_L_g, B_T_g, B_S_1, B_L_s, B_T_s]\n",
    "ig_Apr = [200,5,500,50,2]\n",
    "sol_Apr = minimize(injection4, ig_Apr, bounds=Bounds, constraints=Cons)\n",
    "print('Result:', sol_Apr.fun, 'Values:',sol_Apr.x)"
   ]
  },
  {
   "cell_type": "code",
   "execution_count": 33,
   "metadata": {},
   "outputs": [
    {
     "name": "stdout",
     "output_type": "stream",
     "text": [
      "Result: -4757.310566622356 Values: [199.99539318   7.53212016 520.           7.70000008   1.        ]\n"
     ]
    }
   ],
   "source": [
    "Bounds=[B_L_g, B_T_g, B_S_2, B_L_s, B_T_s]\n",
    "ig_Apr = [200,5,520,50,2]\n",
    "sol_Apr = minimize(injection4, ig_Apr, bounds=Bounds, constraints=Cons)\n",
    "print('Result:', sol_Apr.fun, 'Values:',sol_Apr.x)"
   ]
  },
  {
   "cell_type": "code",
   "execution_count": 34,
   "metadata": {},
   "outputs": [
    {
     "name": "stdout",
     "output_type": "stream",
     "text": [
      "Result: -4940.808105518423 Values: [200.00874328   7.82238294 540.           7.70033187   1.        ]\n"
     ]
    }
   ],
   "source": [
    "Bounds=[B_L_g, B_T_g, B_S_3, B_L_s, B_T_s]\n",
    "ig_Apr = [200,5,540,50,2]\n",
    "sol_Apr = minimize(injection4, ig_Apr, bounds=Bounds, constraints=Cons)\n",
    "print('Result:', sol_Apr.fun, 'Values:',sol_Apr.x)"
   ]
  },
  {
   "cell_type": "code",
   "execution_count": 35,
   "metadata": {},
   "outputs": [
    {
     "name": "stdout",
     "output_type": "stream",
     "text": [
      "Result: -5124.347250770661 Values: [200.01834107   8.1127552  560.           7.70000001   1.00000002]\n"
     ]
    }
   ],
   "source": [
    "Bounds=[B_L_g, B_T_g, B_S_4, B_L_s, B_T_s]\n",
    "ig_Apr = [200,5,560,50,2]\n",
    "sol_Apr = minimize(injection4, ig_Apr, bounds=Bounds, constraints=Cons)\n",
    "print('Result:', sol_Apr.fun, 'Values:',sol_Apr.x)"
   ]
  },
  {
   "cell_type": "code",
   "execution_count": 36,
   "metadata": {},
   "outputs": [
    {
     "name": "stdout",
     "output_type": "stream",
     "text": [
      "Result: -5309.969099496855 Values: [200.03276747   8.40254747 580.           7.70458975   1.00000341]\n"
     ]
    }
   ],
   "source": [
    "Bounds=[B_L_g, B_T_g, B_S_5, B_L_s, B_T_s]\n",
    "ig_Apr = [200,5,580,50,2]\n",
    "sol_Apr = minimize(injection4, ig_Apr, bounds=Bounds, constraints=Cons)\n",
    "print('Result:', sol_Apr.fun, 'Values:',sol_Apr.x)"
   ]
  },
  {
   "cell_type": "code",
   "execution_count": 37,
   "metadata": {},
   "outputs": [
    {
     "name": "stdout",
     "output_type": "stream",
     "text": [
      "Result: -5491.810713991312 Values: [199.92079825   8.69842832 600.           7.7          1.00001555]\n"
     ]
    }
   ],
   "source": [
    "Bounds=[B_L_g, B_T_g, B_S_6, B_L_s, B_T_s]\n",
    "ig_Apr = [200,5,600,50,2]\n",
    "sol_Apr = minimize(injection4, ig_Apr, bounds=Bounds, constraints=Cons)\n",
    "print('Result:', sol_Apr.fun, 'Values:',sol_Apr.x)"
   ]
  },
  {
   "cell_type": "markdown",
   "metadata": {},
   "source": [
    "## May"
   ]
  },
  {
   "cell_type": "code",
   "execution_count": 38,
   "metadata": {},
   "outputs": [],
   "source": [
    "def injection5(x):\n",
    "    \"\"\"The injection function\"\"\"\n",
    "\n",
    "    L_g = x[0]\n",
    "    T_g = x[1]\n",
    "    S = x[2]\n",
    "    L_s = x[3]\n",
    "    T_s = x[4]\n",
    "\n",
    "    return (L_g * T_g * 30/0.95 - (5.17 * S * 30 - 30 * L_s * T_s)/1.2)\n",
    "# Solar injection with credit is capped at 110% of consumption\n",
    "def constraint5(x):\n",
    "    return 31 * x[0] * x[1] * 1.1/0.95 - 31 * (5.17 * x[2] - x[3] * x[4])/1.2\n",
    "\n",
    "Con5 = {'type':'ineq', 'fun':constraint5}\n",
    "Cons = [Con5]"
   ]
  },
  {
   "cell_type": "code",
   "execution_count": 39,
   "metadata": {},
   "outputs": [
    {
     "name": "stdout",
     "output_type": "stream",
     "text": [
      "Result: -5857.526001958453 Values: [199.52580523   9.2964124  500.           7.70000739   1.00000001]\n"
     ]
    }
   ],
   "source": [
    "Bounds=[B_L_g, B_T_g, B_S_1, B_L_s, B_T_s]\n",
    "ig_May = [200,5,500,50,2]\n",
    "sol_May = minimize(injection5, ig_May, bounds=Bounds, constraints=Cons)\n",
    "print('Result:', sol_May.fun, 'Values:',sol_May.x)"
   ]
  },
  {
   "cell_type": "code",
   "execution_count": 40,
   "metadata": {},
   "outputs": [
    {
     "name": "stdout",
     "output_type": "stream",
     "text": [
      "Result: -6092.786425586237 Values: [200.1175603    9.64074614 520.           7.7          1.        ]\n"
     ]
    }
   ],
   "source": [
    "Bounds=[B_L_g, B_T_g, B_S_2, B_L_s, B_T_s]\n",
    "ig_May = [200,5,520,50,2]\n",
    "sol_May = minimize(injection5, ig_May, bounds=Bounds, constraints=Cons)\n",
    "print('Result:', sol_May.fun, 'Values:',sol_May.x)"
   ]
  },
  {
   "cell_type": "code",
   "execution_count": 41,
   "metadata": {},
   "outputs": [
    {
     "name": "stdout",
     "output_type": "stream",
     "text": [
      "Result: -6418.227092127287 Values: [199.88357894  10.01000342 540.           7.7          1.        ]\n"
     ]
    }
   ],
   "source": [
    "Bounds=[B_L_g, B_T_g, B_S_3, B_L_s, B_T_s]\n",
    "ig_May = [200,5,540,50,2]\n",
    "sol_May = minimize(injection5, ig_May, bounds=Bounds, constraints=Cons)\n",
    "print('Result:', sol_May.fun, 'Values:',sol_May.x)"
   ]
  },
  {
   "cell_type": "code",
   "execution_count": 42,
   "metadata": {},
   "outputs": [
    {
     "name": "stdout",
     "output_type": "stream",
     "text": [
      "Result: -6562.5477158751455 Values: [200.24024641  10.37815079 560.           7.70002083   1.00000003]\n"
     ]
    }
   ],
   "source": [
    "Bounds=[B_L_g, B_T_g, B_S_4, B_L_s, B_T_s]\n",
    "ig_May = [200,5,560,50,2]\n",
    "sol_May = minimize(injection5, ig_May, bounds=Bounds, constraints=Cons)\n",
    "print('Result:', sol_May.fun, 'Values:',sol_May.x)"
   ]
  },
  {
   "cell_type": "code",
   "execution_count": 43,
   "metadata": {},
   "outputs": [
    {
     "name": "stdout",
     "output_type": "stream",
     "text": [
      "Result: -6797.717155061284 Values: [200.31219941  10.74589923 580.           7.70010262   1.        ]\n"
     ]
    }
   ],
   "source": [
    "Bounds=[B_L_g, B_T_g, B_S_5, B_L_s, B_T_s]\n",
    "ig_May = [200,5,580,50,2]\n",
    "sol_May = minimize(injection5, ig_May, bounds=Bounds, constraints=Cons)\n",
    "print('Result:', sol_May.fun, 'Values:',sol_May.x)"
   ]
  },
  {
   "cell_type": "code",
   "execution_count": 44,
   "metadata": {},
   "outputs": [
    {
     "name": "stdout",
     "output_type": "stream",
     "text": [
      "Result: -7657.488189425305 Values: [198.82399096  11.08898802 600.          10.45512746   1.02767237]\n"
     ]
    }
   ],
   "source": [
    "Bounds=[B_L_g, B_T_g, B_S_6, B_L_s, B_T_s]\n",
    "ig_May = [200,5,600,50,2]\n",
    "sol_May = minimize(injection5, ig_May, bounds=Bounds, constraints=Cons)\n",
    "print('Result:', sol_May.fun, 'Values:',sol_May.x)"
   ]
  },
  {
   "cell_type": "markdown",
   "metadata": {},
   "source": [
    "## June"
   ]
  },
  {
   "cell_type": "code",
   "execution_count": 45,
   "metadata": {},
   "outputs": [],
   "source": [
    "def injection6(x):\n",
    "    \"\"\"The injection function\"\"\"\n",
    "\n",
    "    L_g = x[0]\n",
    "    T_g = x[1]\n",
    "    S = x[2]\n",
    "    L_s = x[3]\n",
    "    T_s = x[4]\n",
    "\n",
    "    return (L_g * T_g * 30/0.95 - (6.08 * S * 30 - 30 * L_s * T_s)/1.2)\n",
    "# Solar injection with credit is capped at 110% of consumption\n",
    "def constraint6(x):\n",
    "    return 31 * x[0] * x[1] * 1.1/0.95 - 31 * (6.08 * x[2] - x[3] * x[4])/1.2\n",
    "\n",
    "Con6 = {'type':'ineq', 'fun':constraint6}\n",
    "Cons = [Con6]"
   ]
  },
  {
   "cell_type": "code",
   "execution_count": 46,
   "metadata": {},
   "outputs": [
    {
     "name": "stdout",
     "output_type": "stream",
     "text": [
      "Result: -6892.294436322132 Values: [200.3372948   10.89320311 500.           7.70000016   1.        ]\n"
     ]
    }
   ],
   "source": [
    "Bounds=[B_L_g, B_T_g, B_S_1, B_L_s, B_T_s]\n",
    "ig_Jun = [200,5,500,50,2]\n",
    "sol_Jun = minimize(injection6, ig_Jun, bounds=Bounds, constraints=Cons)\n",
    "print('Result:', sol_Jun.fun, 'Values:',sol_Jun.x)"
   ]
  },
  {
   "cell_type": "code",
   "execution_count": 47,
   "metadata": {},
   "outputs": [
    {
     "name": "stdout",
     "output_type": "stream",
     "text": [
      "Result: -7168.003563045902 Values: [200.18834141  11.33857585 520.           7.70003527   1.        ]\n"
     ]
    }
   ],
   "source": [
    "Bounds=[B_L_g, B_T_g, B_S_2, B_L_s, B_T_s]\n",
    "ig_Jun = [200,5,520,50,2]\n",
    "sol_Jun = minimize(injection6, ig_Jun, bounds=Bounds, constraints=Cons)\n",
    "print('Result:', sol_Jun.fun, 'Values:',sol_Jun.x)"
   ]
  },
  {
   "cell_type": "code",
   "execution_count": 48,
   "metadata": {},
   "outputs": [
    {
     "name": "stdout",
     "output_type": "stream",
     "text": [
      "Result: -7512.519651430339 Values: [200.17251226  11.76547841 540.           7.80380579   1.00002588]\n"
     ]
    }
   ],
   "source": [
    "Bounds=[B_L_g, B_T_g, B_S_3, B_L_s, B_T_s]\n",
    "ig_Jun = [200,5,540,50,2]\n",
    "sol_Jun = minimize(injection6, ig_Jun, bounds=Bounds, constraints=Cons)\n",
    "print('Result:', sol_Jun.fun, 'Values:',sol_Jun.x)"
   ]
  },
  {
   "cell_type": "code",
   "execution_count": 49,
   "metadata": {},
   "outputs": [
    {
     "name": "stdout",
     "output_type": "stream",
     "text": [
      "Result: -7720.858492742307 Values: [200.14218114  12.21570069 560.           7.7          1.        ]\n"
     ]
    }
   ],
   "source": [
    "Bounds=[B_L_g, B_T_g, B_S_4, B_L_s, B_T_s]\n",
    "ig_Jun = [200,5,560,50,2]\n",
    "sol_Jun = minimize(injection6, ig_Jun, bounds=Bounds, constraints=Cons)\n",
    "print('Result:', sol_Jun.fun, 'Values:',sol_Jun.x)"
   ]
  },
  {
   "cell_type": "code",
   "execution_count": 50,
   "metadata": {},
   "outputs": [
    {
     "name": "stdout",
     "output_type": "stream",
     "text": [
      "Result: -8010.064202811729 Values: [200.76492422  12.61165117 580.           7.71045312   1.        ]\n"
     ]
    }
   ],
   "source": [
    "Bounds=[B_L_g, B_T_g, B_S_5, B_L_s, B_T_s]\n",
    "ig_Jun = [200,5,580,50,2]\n",
    "sol_Jun = minimize(injection6, ig_Jun, bounds=Bounds, constraints=Cons)\n",
    "print('Result:', sol_Jun.fun, 'Values:',sol_Jun.x)"
   ]
  },
  {
   "cell_type": "code",
   "execution_count": 51,
   "metadata": {},
   "outputs": [
    {
     "name": "stdout",
     "output_type": "stream",
     "text": [
      "Result: -8273.608724914127 Values: [200.23922602  13.08388275 600.           7.7          1.00000035]\n"
     ]
    }
   ],
   "source": [
    "Bounds=[B_L_g, B_T_g, B_S_6, B_L_s, B_T_s]\n",
    "ig_Jun = [200,5,600,50,2]\n",
    "sol_Jun = minimize(injection6, ig_Jun, bounds=Bounds, constraints=Cons)\n",
    "print('Result:', sol_Jun.fun, 'Values:',sol_Jun.x)"
   ]
  },
  {
   "cell_type": "markdown",
   "metadata": {},
   "source": [
    "## July"
   ]
  },
  {
   "cell_type": "code",
   "execution_count": 52,
   "metadata": {},
   "outputs": [],
   "source": [
    "def injection7(x):\n",
    "    \"\"\"The injection function\"\"\"\n",
    "\n",
    "    L_g = x[0]\n",
    "    T_g = x[1]\n",
    "    S = x[2]\n",
    "    L_s = x[3]\n",
    "    T_s = x[4]\n",
    "\n",
    "    return (L_g * T_g * 30/0.95 - (5.95 * S * 30 - 30 * L_s * T_s)/1.2)\n",
    "# Solar injection with credit is capped at 110% of consumption\n",
    "def constraint7(x):\n",
    "    return 31 * x[0] * x[1] * 1.1/0.95 - 31 * (5.95 * x[2] - x[3] * x[4])/1.2\n",
    "\n",
    "Con7 = {'type':'ineq', 'fun':constraint7}\n",
    "Cons = [Con7]"
   ]
  },
  {
   "cell_type": "code",
   "execution_count": 53,
   "metadata": {},
   "outputs": [
    {
     "name": "stdout",
     "output_type": "stream",
     "text": [
      "Result: -6744.194431393538 Values: [200.21561847  10.66623205 500.           7.70012217   1.00000001]\n"
     ]
    }
   ],
   "source": [
    "Bounds=[B_L_g, B_T_g, B_S_1, B_L_s, B_T_s]\n",
    "ig_Jul = [200,5,500,50,2]\n",
    "sol_Jul = minimize(injection7, ig_Jul, bounds=Bounds, constraints=Cons)\n",
    "print('Result:', sol_Jul.fun, 'Values:',sol_Jul.x)"
   ]
  },
  {
   "cell_type": "code",
   "execution_count": 54,
   "metadata": {},
   "outputs": [
    {
     "name": "stdout",
     "output_type": "stream",
     "text": [
      "Result: -7034.297892907358 Values: [200.38830048  11.08124425 520.           7.72067067   1.        ]\n"
     ]
    }
   ],
   "source": [
    "Bounds=[B_L_g, B_T_g, B_S_2, B_L_s, B_T_s]\n",
    "ig_Jul = [200,5,520,50,2]\n",
    "sol_Jul = minimize(injection7, ig_Jul, bounds=Bounds, constraints=Cons)\n",
    "print('Result:', sol_Jul.fun, 'Values:',sol_Jul.x)"
   ]
  },
  {
   "cell_type": "code",
   "execution_count": 55,
   "metadata": {},
   "outputs": [
    {
     "name": "stdout",
     "output_type": "stream",
     "text": [
      "Result: -7285.522446945164 Values: [200.29736686  11.51698093 540.           7.70000091   1.        ]\n"
     ]
    }
   ],
   "source": [
    "Bounds=[B_L_g, B_T_g, B_S_3, B_L_s, B_T_s]\n",
    "ig_Jul = [200,5,540,50,2]\n",
    "sol_Jul = minimize(injection7, ig_Jul, bounds=Bounds, constraints=Cons)\n",
    "print('Result:', sol_Jul.fun, 'Values:',sol_Jul.x)"
   ]
  },
  {
   "cell_type": "code",
   "execution_count": 56,
   "metadata": {},
   "outputs": [
    {
     "name": "stdout",
     "output_type": "stream",
     "text": [
      "Result: -7555.60839543058 Values: [200.20335958  11.95023116 560.           7.70017965   1.        ]\n"
     ]
    }
   ],
   "source": [
    "Bounds=[B_L_g, B_T_g, B_S_4, B_L_s, B_T_s]\n",
    "ig_Jul = [200,5,560,50,2]\n",
    "sol_Jul = minimize(injection7, ig_Jul, bounds=Bounds, constraints=Cons)\n",
    "print('Result:', sol_Jul.fun, 'Values:',sol_Jul.x)"
   ]
  },
  {
   "cell_type": "code",
   "execution_count": 57,
   "metadata": {},
   "outputs": [
    {
     "name": "stdout",
     "output_type": "stream",
     "text": [
      "Result: -7931.504204820856 Values: [199.85458553  12.38267589 580.           7.7          1.00770616]\n"
     ]
    }
   ],
   "source": [
    "Bounds=[B_L_g, B_T_g, B_S_5, B_L_s, B_T_s]\n",
    "ig_Jul = [200,5,580,50,2]\n",
    "sol_Jul = minimize(injection7, ig_Jul, bounds=Bounds, constraints=Cons)\n",
    "print('Result:', sol_Jul.fun, 'Values:',sol_Jul.x)"
   ]
  },
  {
   "cell_type": "code",
   "execution_count": 58,
   "metadata": {},
   "outputs": [
    {
     "name": "stdout",
     "output_type": "stream",
     "text": [
      "Result: -8102.73402514866 Values: [200.20692033  12.80457812 600.           7.70015253   1.00038005]\n"
     ]
    }
   ],
   "source": [
    "Bounds=[B_L_g, B_T_g, B_S_6, B_L_s, B_T_s]\n",
    "ig_Jul = [200,5,600,50,2]\n",
    "sol_Jul = minimize(injection7, ig_Jul, bounds=Bounds, constraints=Cons)\n",
    "print('Result:', sol_Jul.fun, 'Values:',sol_Jul.x)"
   ]
  },
  {
   "cell_type": "markdown",
   "metadata": {},
   "source": [
    "## August"
   ]
  },
  {
   "cell_type": "code",
   "execution_count": 59,
   "metadata": {},
   "outputs": [],
   "source": [
    "def injection8(x):\n",
    "    \"\"\"The injection function\"\"\"\n",
    "\n",
    "    L_g = x[0]\n",
    "    T_g = x[1]\n",
    "    S = x[2]\n",
    "    L_s = x[3]\n",
    "    T_s = x[4]\n",
    "\n",
    "    return (L_g * T_g * 30/0.95 - (5.22 * S * 30 - 30 * L_s * T_s)/1.2)\n",
    "# Solar injection with credit is capped at 110% of consumption\n",
    "def constraint8(x):\n",
    "    return 31 * x[0] * x[1] * 1.1/0.95 - 31 * (5.22 * x[2] - x[3] * x[4])/1.2\n",
    "\n",
    "Con8 = {'type':'ineq', 'fun':constraint8}\n",
    "Cons = [Con8]"
   ]
  },
  {
   "cell_type": "code",
   "execution_count": 60,
   "metadata": {},
   "outputs": [
    {
     "name": "stdout",
     "output_type": "stream",
     "text": [
      "Result: -5914.492600736783 Values: [200.08919926   9.36013486 500.           7.70001365   1.00000005]\n"
     ]
    }
   ],
   "source": [
    "Bounds=[B_L_g, B_T_g, B_S_1, B_L_s, B_T_s]\n",
    "ig_Aug = [200,5,500,50,2]\n",
    "sol_Aug = minimize(injection8, ig_Aug, bounds=Bounds, constraints=Cons)\n",
    "print('Result:', sol_Aug.fun, 'Values:',sol_Aug.x)"
   ]
  },
  {
   "cell_type": "code",
   "execution_count": 61,
   "metadata": {},
   "outputs": [
    {
     "name": "stdout",
     "output_type": "stream",
     "text": [
      "Result: -59602.76315789473 Values: [ 15.4  15.  520.    7.7   5. ]\n"
     ]
    }
   ],
   "source": [
    "Bounds=[B_L_g, B_T_g, B_S_2, B_L_s, B_T_s]\n",
    "ig_Aug = [200,5,520,50,2]\n",
    "sol_Aug = minimize(injection8, ig_Aug, bounds=Bounds, constraints=Cons)\n",
    "print('Result:', sol_Aug.fun, 'Values:',sol_Aug.x)"
   ]
  },
  {
   "cell_type": "code",
   "execution_count": 62,
   "metadata": {},
   "outputs": [
    {
     "name": "stdout",
     "output_type": "stream",
     "text": [
      "Result: -6388.830068095645 Values: [200.20578361  10.10530853 540.           7.70000002   1.00000016]\n"
     ]
    }
   ],
   "source": [
    "Bounds=[B_L_g, B_T_g, B_S_3, B_L_s, B_T_s]\n",
    "ig_Aug = [200,5,540,50,2]\n",
    "sol_Aug = minimize(injection8, ig_Aug, bounds=Bounds, constraints=Cons)\n",
    "print('Result:', sol_Aug.fun, 'Values:',sol_Aug.x)"
   ]
  },
  {
   "cell_type": "code",
   "execution_count": 63,
   "metadata": {},
   "outputs": [
    {
     "name": "stdout",
     "output_type": "stream",
     "text": [
      "Result: -64822.76315789473 Values: [ 15.4  15.  560.    7.7   5. ]\n"
     ]
    }
   ],
   "source": [
    "Bounds=[B_L_g, B_T_g, B_S_4, B_L_s, B_T_s]\n",
    "ig_Aug = [200,5,560,50,2]\n",
    "sol_Aug = minimize(injection8, ig_Aug, bounds=Bounds, constraints=Cons)\n",
    "print('Result:', sol_Aug.fun, 'Values:',sol_Aug.x)"
   ]
  },
  {
   "cell_type": "code",
   "execution_count": 64,
   "metadata": {},
   "outputs": [
    {
     "name": "stdout",
     "output_type": "stream",
     "text": [
      "Result: -6863.645054338718 Values: [200.33039498  10.84910458 580.           7.7          1.00000003]\n"
     ]
    }
   ],
   "source": [
    "Bounds=[B_L_g, B_T_g, B_S_5, B_L_s, B_T_s]\n",
    "ig_Aug = [200,5,580,50,2]\n",
    "sol_Aug = minimize(injection8, ig_Aug, bounds=Bounds, constraints=Cons)\n",
    "print('Result:', sol_Aug.fun, 'Values:',sol_Aug.x)"
   ]
  },
  {
   "cell_type": "code",
   "execution_count": 65,
   "metadata": {},
   "outputs": [
    {
     "name": "stdout",
     "output_type": "stream",
     "text": [
      "Result: -7100.690742249804 Values: [200.17783157  11.2327571  600.           7.70000011   1.0000001 ]\n"
     ]
    }
   ],
   "source": [
    "Bounds=[B_L_g, B_T_g, B_S_6, B_L_s, B_T_s]\n",
    "ig_Aug = [200,5,600,50,2]\n",
    "sol_Aug = minimize(injection8, ig_Aug, bounds=Bounds, constraints=Cons)\n",
    "print('Result:', sol_Aug.fun, 'Values:',sol_Aug.x)"
   ]
  },
  {
   "cell_type": "markdown",
   "metadata": {},
   "source": [
    "## September"
   ]
  },
  {
   "cell_type": "code",
   "execution_count": 66,
   "metadata": {},
   "outputs": [],
   "source": [
    "def injection9(x):\n",
    "    \"\"\"The injection function\"\"\"\n",
    "\n",
    "    L_g = x[0]\n",
    "    T_g = x[1]\n",
    "    S = x[2]\n",
    "    L_s = x[3]\n",
    "    T_s = x[4]\n",
    "\n",
    "    return (L_g * T_g * 30/0.95 - (4.26 * S * 30 - 30 * L_s * T_s)/1.2)\n",
    "# Solar injection with credit is capped at 110% of consumption\n",
    "def constraint9(x):\n",
    "    return 31 * x[0] * x[1] * 1.1/0.95 - 31 * (4.26 * x[2] - x[3] * x[4])/1.2\n",
    "\n",
    "Con9 = {'type':'ineq', 'fun':constraint9}\n",
    "Cons = [Con9]"
   ]
  },
  {
   "cell_type": "code",
   "execution_count": 67,
   "metadata": {},
   "outputs": [
    {
     "name": "stdout",
     "output_type": "stream",
     "text": [
      "Result: -4823.985941837847 Values: [200.03341833   7.6356972  500.           7.7          1.        ]\n"
     ]
    }
   ],
   "source": [
    "Bounds=[B_L_g, B_T_g, B_S_1, B_L_s, B_T_s]\n",
    "ig_Sept = [200,5,500,50,2]\n",
    "sol_Sept = minimize(injection9, ig_Sept, bounds=Bounds, constraints=Cons)\n",
    "print('Result:', sol_Sept.fun, 'Values:',sol_Sept.x)"
   ]
  },
  {
   "cell_type": "code",
   "execution_count": 68,
   "metadata": {},
   "outputs": [
    {
     "name": "stdout",
     "output_type": "stream",
     "text": [
      "Result: -5017.495004449331 Values: [200.01092304   7.94315031 520.           7.7          1.        ]\n"
     ]
    }
   ],
   "source": [
    "Bounds=[B_L_g, B_T_g, B_S_2, B_L_s, B_T_s]\n",
    "ig_Sept = [200,5,520,50,2]\n",
    "sol_Sept = minimize(injection9, ig_Sept, bounds=Bounds, constraints=Cons)\n",
    "print('Result:', sol_Sept.fun, 'Values:',sol_Sept.x)"
   ]
  },
  {
   "cell_type": "code",
   "execution_count": 69,
   "metadata": {},
   "outputs": [
    {
     "name": "stdout",
     "output_type": "stream",
     "text": [
      "Result: -5211.543563411076 Values: [200.01555568   8.24946813 540.           7.70000102   1.        ]\n"
     ]
    }
   ],
   "source": [
    "Bounds=[B_L_g, B_T_g, B_S_3, B_L_s, B_T_s]\n",
    "ig_Sept = [200,5,540,50,2]\n",
    "sol_Sept = minimize(injection9, ig_Sept, bounds=Bounds, constraints=Cons)\n",
    "print('Result:', sol_Sept.fun, 'Values:',sol_Sept.x)"
   ]
  },
  {
   "cell_type": "code",
   "execution_count": 70,
   "metadata": {},
   "outputs": [
    {
     "name": "stdout",
     "output_type": "stream",
     "text": [
      "Result: -5406.326367572896 Values: [200.0422477    8.55471203 560.           7.7000002    1.00000154]\n"
     ]
    }
   ],
   "source": [
    "Bounds=[B_L_g, B_T_g, B_S_4, B_L_s, B_T_s]\n",
    "ig_Sept = [200,5,560,50,2]\n",
    "sol_Sept = minimize(injection9, ig_Sept, bounds=Bounds, constraints=Cons)\n",
    "print('Result:', sol_Sept.fun, 'Values:',sol_Sept.x)"
   ]
  },
  {
   "cell_type": "code",
   "execution_count": 71,
   "metadata": {},
   "outputs": [
    {
     "name": "stdout",
     "output_type": "stream",
     "text": [
      "Result: -5598.13765546096 Values: [200.05600209   8.86091789 580.           7.7          1.        ]\n"
     ]
    }
   ],
   "source": [
    "Bounds=[B_L_g, B_T_g, B_S_5, B_L_s, B_T_s]\n",
    "ig_Sept = [200,5,580,50,2]\n",
    "sol_Sept = minimize(injection9, ig_Sept, bounds=Bounds, constraints=Cons)\n",
    "print('Result:', sol_Sept.fun, 'Values:',sol_Sept.x)"
   ]
  },
  {
   "cell_type": "code",
   "execution_count": 72,
   "metadata": {},
   "outputs": [
    {
     "name": "stdout",
     "output_type": "stream",
     "text": [
      "Result: -5791.626079881404 Values: [200.07649716   9.16650731 600.           7.7          1.        ]\n"
     ]
    }
   ],
   "source": [
    "Bounds=[B_L_g, B_T_g, B_S_6, B_L_s, B_T_s]\n",
    "ig_Sept = [200,5,600,50,2]\n",
    "sol_Sept = minimize(injection9, ig_Sept, bounds=Bounds, constraints=Cons)\n",
    "print('Result:', sol_Sept.fun, 'Values:',sol_Sept.x)"
   ]
  },
  {
   "cell_type": "markdown",
   "metadata": {},
   "source": [
    "## October"
   ]
  },
  {
   "cell_type": "code",
   "execution_count": 73,
   "metadata": {},
   "outputs": [],
   "source": [
    "def injection10(x):\n",
    "    \"\"\"The injection function\"\"\"\n",
    "\n",
    "    L_g = x[0]\n",
    "    T_g = x[1]\n",
    "    S = x[2]\n",
    "    L_s = x[3]\n",
    "    T_s = x[4]\n",
    "\n",
    "    return (L_g * T_g * 30/0.95 - (3.15 * S * 30 - 30 * L_s * T_s)/1.2)\n",
    "# Solar injection with credit is capped at 110% of consumption\n",
    "def constraint10(x):\n",
    "    return 31 * x[0] * x[1] * 1.1/0.95 - 31 * (3.15 * x[2] - x[3] * x[4])/1.2\n",
    "\n",
    "Con10 = {'type':'ineq', 'fun':constraint10}\n",
    "Cons = [Con10]"
   ]
  },
  {
   "cell_type": "code",
   "execution_count": 74,
   "metadata": {},
   "outputs": [
    {
     "name": "stdout",
     "output_type": "stream",
     "text": [
      "Result: -3562.904007778983 Values: [200.01254821   5.6394066  500.           7.70225925   1.00000002]\n"
     ]
    }
   ],
   "source": [
    "Bounds=[B_L_g, B_T_g, B_S_1, B_L_s, B_T_s]\n",
    "ig_Oct = [200,5,500,50,2]\n",
    "sol_Oct = minimize(injection10, ig_Oct, bounds=Bounds, constraints=Cons)\n",
    "print('Result:', sol_Oct.fun, 'Values:',sol_Oct.x)"
   ]
  },
  {
   "cell_type": "code",
   "execution_count": 75,
   "metadata": {},
   "outputs": [
    {
     "name": "stdout",
     "output_type": "stream",
     "text": [
      "Result: -3705.3929945544223 Values: [200.01324296   5.86619472 520.           7.7001166    1.        ]\n"
     ]
    }
   ],
   "source": [
    "Bounds=[B_L_g, B_T_g, B_S_2, B_L_s, B_T_s]\n",
    "ig_Oct = [200,5,520,50,2]\n",
    "sol_Oct = minimize(injection10, ig_Oct, bounds=Bounds, constraints=Cons)\n",
    "print('Result:', sol_Oct.fun, 'Values:',sol_Oct.x)"
   ]
  },
  {
   "cell_type": "code",
   "execution_count": 76,
   "metadata": {},
   "outputs": [
    {
     "name": "stdout",
     "output_type": "stream",
     "text": [
      "Result: -3848.5359433162594 Values: [200.0173761    6.09276495 540.           7.7          1.00000038]\n"
     ]
    }
   ],
   "source": [
    "Bounds=[B_L_g, B_T_g, B_S_3, B_L_s, B_T_s]\n",
    "ig_Oct = [200,5,540,50,2]\n",
    "sol_Oct = minimize(injection10, ig_Oct, bounds=Bounds, constraints=Cons)\n",
    "print('Result:', sol_Oct.fun, 'Values:',sol_Oct.x)"
   ]
  },
  {
   "cell_type": "code",
   "execution_count": 77,
   "metadata": {},
   "outputs": [
    {
     "name": "stdout",
     "output_type": "stream",
     "text": [
      "Result: -3993.026992493651 Values: [200.00799288   6.31953422 560.           7.7012078    1.0000001 ]\n"
     ]
    }
   ],
   "source": [
    "Bounds=[B_L_g, B_T_g, B_S_4, B_L_s, B_T_s]\n",
    "ig_Oct = [200,5,560,50,2]\n",
    "sol_Oct = minimize(injection10, ig_Oct, bounds=Bounds, constraints=Cons)\n",
    "print('Result:', sol_Oct.fun, 'Values:',sol_Oct.x)"
   ]
  },
  {
   "cell_type": "code",
   "execution_count": 78,
   "metadata": {},
   "outputs": [
    {
     "name": "stdout",
     "output_type": "stream",
     "text": [
      "Result: -4135.3834689835785 Values: [199.85169694   6.55148396 580.           7.70021442   1.00000005]\n"
     ]
    }
   ],
   "source": [
    "Bounds=[B_L_g, B_T_g, B_S_5, B_L_s, B_T_s]\n",
    "ig_Oct = [200,5,580,50,2]\n",
    "sol_Oct = minimize(injection10, ig_Oct, bounds=Bounds, constraints=Cons)\n",
    "print('Result:', sol_Oct.fun, 'Values:',sol_Oct.x)"
   ]
  },
  {
   "cell_type": "code",
   "execution_count": 79,
   "metadata": {},
   "outputs": [
    {
     "name": "stdout",
     "output_type": "stream",
     "text": [
      "Result: -4278.22720658972 Values: [200.00790654   6.77311319 600.           7.70098704   1.        ]\n"
     ]
    }
   ],
   "source": [
    "Bounds=[B_L_g, B_T_g, B_S_6, B_L_s, B_T_s]\n",
    "ig_Oct = [200,5,600,50,2]\n",
    "sol_Oct = minimize(injection10, ig_Oct, bounds=Bounds, constraints=Cons)\n",
    "print('Result:', sol_Oct.fun, 'Values:',sol_Oct.x)"
   ]
  },
  {
   "cell_type": "markdown",
   "metadata": {},
   "source": [
    "## November"
   ]
  },
  {
   "cell_type": "code",
   "execution_count": 80,
   "metadata": {},
   "outputs": [],
   "source": [
    "def injection11(x):\n",
    "    \"\"\"The injection function\"\"\"\n",
    "\n",
    "    L_g = x[0]\n",
    "    T_g = x[1]\n",
    "    S = x[2]\n",
    "    L_s = x[3]\n",
    "    T_s = x[4]\n",
    "\n",
    "    return (L_g * T_g * 30/0.95 - (2.11 * S * 30 - 30 * L_s * T_s)/1.2)\n",
    "# Solar injection with credit is capped at 110% of consumption\n",
    "def constraint11(x):\n",
    "    return 31 * x[0] * x[1] * 1.1/0.95 - 31 * (2.11 * x[2] - x[3] * x[4])/1.2\n",
    "\n",
    "Con11 = {'type':'ineq', 'fun':constraint11}\n",
    "Cons = [Con11]"
   ]
  },
  {
   "cell_type": "code",
   "execution_count": 81,
   "metadata": {},
   "outputs": [
    {
     "name": "stdout",
     "output_type": "stream",
     "text": [
      "Result: -2380.2842508859976 Values: [150.00001251   5.02491179 500.           7.7          1.00000001]\n"
     ]
    }
   ],
   "source": [
    "Bounds=[B_L_g, B_T_g, B_S_1, B_L_s, B_T_s]\n",
    "ig_Nov = [150,5,500,50,2]\n",
    "sol_Nov = minimize(injection11, ig_Nov, bounds=Bounds, constraints=Cons)\n",
    "print('Result:', sol_Nov.fun, 'Values:',sol_Nov.x)"
   ]
  },
  {
   "cell_type": "code",
   "execution_count": 82,
   "metadata": {},
   "outputs": [
    {
     "name": "stdout",
     "output_type": "stream",
     "text": [
      "Result: -2476.1871294517005 Values: [150.00769429   5.22712013 520.           7.7          1.00000038]\n"
     ]
    }
   ],
   "source": [
    "Bounds=[B_L_g, B_T_g, B_S_2, B_L_s, B_T_s]\n",
    "ig_Nov = [150,5,520,50,2]\n",
    "sol_Nov = minimize(injection11, ig_Nov, bounds=Bounds, constraints=Cons)\n",
    "print('Result:', sol_Nov.fun, 'Values:',sol_Nov.x)"
   ]
  },
  {
   "cell_type": "code",
   "execution_count": 83,
   "metadata": {},
   "outputs": [
    {
     "name": "stdout",
     "output_type": "stream",
     "text": [
      "Result: -2572.051426341255 Values: [150.01112423   5.42946974 540.           7.70001419   1.        ]\n"
     ]
    }
   ],
   "source": [
    "Bounds=[B_L_g, B_T_g, B_S_3, B_L_s, B_T_s]\n",
    "ig_Nov = [150,5,540,50,2]\n",
    "sol_Nov = minimize(injection11, ig_Nov, bounds=Bounds, constraints=Cons)\n",
    "print('Result:', sol_Nov.fun, 'Values:',sol_Nov.x)"
   ]
  },
  {
   "cell_type": "code",
   "execution_count": 84,
   "metadata": {},
   "outputs": [
    {
     "name": "stdout",
     "output_type": "stream",
     "text": [
      "Result: -2668.045638918251 Values: [150.01592259   5.63173144 560.           7.7          1.        ]\n"
     ]
    }
   ],
   "source": [
    "Bounds=[B_L_g, B_T_g, B_S_4, B_L_s, B_T_s]\n",
    "ig_Nov = [150,5,560,50,2]\n",
    "sol_Nov = minimize(injection11, ig_Nov, bounds=Bounds, constraints=Cons)\n",
    "print('Result:', sol_Nov.fun, 'Values:',sol_Nov.x)"
   ]
  },
  {
   "cell_type": "code",
   "execution_count": 85,
   "metadata": {},
   "outputs": [
    {
     "name": "stdout",
     "output_type": "stream",
     "text": [
      "Result: -2764.026195788978 Values: [150.01886715   5.83405247 580.           7.70049473   1.00000039]\n"
     ]
    }
   ],
   "source": [
    "Bounds=[B_L_g, B_T_g, B_S_5, B_L_s, B_T_s]\n",
    "ig_Nov = [150,5,580,50,2]\n",
    "sol_Nov = minimize(injection11, ig_Nov, bounds=Bounds, constraints=Cons)\n",
    "print('Result:', sol_Nov.fun, 'Values:',sol_Nov.x)"
   ]
  },
  {
   "cell_type": "code",
   "execution_count": 86,
   "metadata": {},
   "outputs": [
    {
     "name": "stdout",
     "output_type": "stream",
     "text": [
      "Result: -2859.9115773599297 Values: [150.0170257    6.0365829  600.           7.70011173   1.        ]\n"
     ]
    }
   ],
   "source": [
    "Bounds=[B_L_g, B_T_g, B_S_6, B_L_s, B_T_s]\n",
    "ig_Nov = [150,5,600,50,2]\n",
    "sol_Nov = minimize(injection11, ig_Nov, bounds=Bounds, constraints=Cons)\n",
    "print('Result:', sol_Nov.fun, 'Values:',sol_Nov.x)"
   ]
  },
  {
   "cell_type": "markdown",
   "metadata": {},
   "source": [
    "## December"
   ]
  },
  {
   "cell_type": "code",
   "execution_count": 87,
   "metadata": {},
   "outputs": [],
   "source": [
    "def injection12(x):\n",
    "    \"\"\"The injection function\"\"\"\n",
    "\n",
    "    L_g = x[0]\n",
    "    T_g = x[1]\n",
    "    S = x[2]\n",
    "    L_s = x[3]\n",
    "    T_s = x[4]\n",
    "\n",
    "    return (L_g * T_g * 30/0.95 - (1.59 * S * 30 - 30 * L_s * T_s)/1.2)\n",
    "# Solar injection with credit is capped at 110% of consumption\n",
    "def constraint12(x):\n",
    "    return 31 * x[0] * x[1] * 1.1/0.95 - 31 * (1.59 * x[2] - x[3] * x[4])/1.2\n",
    "\n",
    "Con12 = {'type':'ineq', 'fun':constraint12}\n",
    "Cons = [Con12]"
   ]
  },
  {
   "cell_type": "code",
   "execution_count": 88,
   "metadata": {},
   "outputs": [
    {
     "name": "stdout",
     "output_type": "stream",
     "text": [
      "Result: -1789.3706331869398 Values: [149.82899625   3.78174957 500.           7.7          1.00000356]\n"
     ]
    }
   ],
   "source": [
    "Bounds=[B_L_g, B_T_g, B_S_1, B_L_s, B_T_s]\n",
    "ig_Dec = [150,6,500,50,2]\n",
    "sol_Dec = minimize(injection12, ig_Dec, bounds=Bounds, constraints=Cons)\n",
    "print('Result:', sol_Dec.fun, 'Values:',sol_Dec.x)"
   ]
  },
  {
   "cell_type": "code",
   "execution_count": 89,
   "metadata": {},
   "outputs": [
    {
     "name": "stdout",
     "output_type": "stream",
     "text": [
      "Result: -1861.9938818098744 Values: [149.83830877   3.9341797  520.           7.7          1.00003198]\n"
     ]
    }
   ],
   "source": [
    "Bounds=[B_L_g, B_T_g, B_S_2, B_L_s, B_T_s]\n",
    "ig_Dec = [150,6,520,50,2]\n",
    "sol_Dec = minimize(injection12, ig_Dec, bounds=Bounds, constraints=Cons)\n",
    "print('Result:', sol_Dec.fun, 'Values:',sol_Dec.x)"
   ]
  },
  {
   "cell_type": "code",
   "execution_count": 90,
   "metadata": {},
   "outputs": [
    {
     "name": "stdout",
     "output_type": "stream",
     "text": [
      "Result: -1933.9204296821408 Values: [149.84928657   4.08669508 540.           7.7          1.00000173]\n"
     ]
    }
   ],
   "source": [
    "Bounds=[B_L_g, B_T_g, B_S_3, B_L_s, B_T_s]\n",
    "ig_Dec = [150,6,540,50,2]\n",
    "sol_Dec = minimize(injection12, ig_Dec, bounds=Bounds, constraints=Cons)\n",
    "print('Result:', sol_Dec.fun, 'Values:',sol_Dec.x)"
   ]
  },
  {
   "cell_type": "code",
   "execution_count": 91,
   "metadata": {},
   "outputs": [
    {
     "name": "stdout",
     "output_type": "stream",
     "text": [
      "Result: -2006.6660716369443 Values: [149.86222404   4.23895756 560.           7.7          1.000022  ]\n"
     ]
    }
   ],
   "source": [
    "Bounds=[B_L_g, B_T_g, B_S_4, B_L_s, B_T_s]\n",
    "ig_Dec = [150,6,560,50,2]\n",
    "sol_Dec = minimize(injection12, ig_Dec, bounds=Bounds, constraints=Cons)\n",
    "print('Result:', sol_Dec.fun, 'Values:',sol_Dec.x)"
   ]
  },
  {
   "cell_type": "code",
   "execution_count": 92,
   "metadata": {},
   "outputs": [
    {
     "name": "stdout",
     "output_type": "stream",
     "text": [
      "Result: -2078.4911040217885 Values: [149.87661132   4.3913475  580.           7.7          1.        ]\n"
     ]
    }
   ],
   "source": [
    "Bounds=[B_L_g, B_T_g, B_S_5, B_L_s, B_T_s]\n",
    "ig_Dec = [150,6,580,50,2]\n",
    "sol_Dec = minimize(injection12, ig_Dec, bounds=Bounds, constraints=Cons)\n",
    "print('Result:', sol_Dec.fun, 'Values:',sol_Dec.x)"
   ]
  },
  {
   "cell_type": "code",
   "execution_count": 93,
   "metadata": {},
   "outputs": [
    {
     "name": "stdout",
     "output_type": "stream",
     "text": [
      "Result: -2150.717746324288 Values: [149.89261973   4.54357324 600.           7.7          1.00000151]\n"
     ]
    }
   ],
   "source": [
    "Bounds=[B_L_g, B_T_g, B_S_6, B_L_s, B_T_s]\n",
    "ig_Dec = [150,6,600,50,2]\n",
    "sol_Dec = minimize(injection12, ig_Dec, bounds=Bounds, constraints=Cons)\n",
    "print('Result:', sol_Dec.fun, 'Values:',sol_Dec.x)"
   ]
  },
  {
   "cell_type": "code",
   "execution_count": null,
   "metadata": {},
   "outputs": [],
   "source": []
  }
 ],
 "metadata": {
  "kernelspec": {
   "display_name": "PUI2016_Python3",
   "language": "python",
   "name": "pui2016_python3"
  },
  "language_info": {
   "codemirror_mode": {
    "name": "ipython",
    "version": 3
   },
   "file_extension": ".py",
   "mimetype": "text/x-python",
   "name": "python",
   "nbconvert_exporter": "python",
   "pygments_lexer": "ipython3",
   "version": "3.5.4"
  }
 },
 "nbformat": 4,
 "nbformat_minor": 2
}
