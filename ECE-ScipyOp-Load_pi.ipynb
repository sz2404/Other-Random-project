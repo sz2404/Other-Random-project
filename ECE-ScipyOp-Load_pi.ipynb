{
 "cells": [
  {
   "cell_type": "code",
   "execution_count": 3,
   "metadata": {},
   "outputs": [
    {
     "name": "stdout",
     "output_type": "stream",
     "text": [
      "Populating the interactive namespace from numpy and matplotlib\n"
     ]
    }
   ],
   "source": [
    "import scipy as sp\n",
    "import scipy.optimize as optimize\n",
    "from scipy.optimize import minimize\n",
    "import pandas as pd\n",
    "import numpy as np\n",
    "import sys\n",
    "import os\n",
    "import pylab as pl\n",
    "%pylab inline"
   ]
  },
  {
   "cell_type": "code",
   "execution_count": 4,
   "metadata": {},
   "outputs": [
    {
     "data": {
      "text/plain": [
       "'p = (T_p*S - T_s(0.3*L_s_1 + 0.4*L_s_2 + 0.2*L_s_3 + 0.1*L_s_3)/1.2 - (0.35*L_g_1+0.45*L_g_2+0.2*L_g_3)*T_g/0.95'"
      ]
     },
     "execution_count": 4,
     "metadata": {},
     "output_type": "execute_result"
    }
   ],
   "source": [
    "# The formula\n",
    "'p = (T_p*S - T_s(0.3*L_s_1 + 0.4*L_s_2 + 0.2*L_s_3 + 0.1*L_s_3)/1.2 - (0.35*L_g_1+0.45*L_g_2+0.2*L_g_3)*T_g/0.95'"
   ]
  },
  {
   "cell_type": "code",
   "execution_count": 5,
   "metadata": {},
   "outputs": [],
   "source": [
    "def injection(x):\n",
    "    \"\"\"The injection function\"\"\"\n",
    "\n",
    "    L_g_1 = x[0]\n",
    "    L_g_2 = x[1]\n",
    "    L_g_3 = x[2]\n",
    "    L_g_4 = x[3]\n",
    "    T_g = x[4]\n",
    "    T_p = x[5]\n",
    "    S = x[6]\n",
    "    T_s = x[7]\n",
    "    L_s_1 = x[8]\n",
    "    L_s_2 = x[9]\n",
    "    L_s_3 = x[10]\n",
    "    L_s_4 = x[11]\n",
    "    L_s_5 = x[12]\n",
    "\n",
    "    return (365*(0.45*L_g_1+0.35*L_g_2+0.15*L_g_3+0.05*L_g_4)*T_g - \n",
    "            (T_p*S - 365*T_s*(0.15*L_s_1 + 0.2*L_s_2 + 0.25*L_s_3 + 0.25*L_s_4 + 0.15*L_s_5))/1.2)"
   ]
  },
  {
   "cell_type": "code",
   "execution_count": 6,
   "metadata": {},
   "outputs": [],
   "source": [
    "# Solar injection with credit is capped at 130% of consumption\n",
    "def constraint1(x):\n",
    "    return (1.1*365*(0.45*x[0]+0.35*x[1]+0.15*x[2] + 0.05*x[3])*x[4] - (x[5]*x[6] - 365*x[7]*(0.15*x[8] + 0.2*x[9] + 0.25*x[10] + 0.25*x[11] + 0.15*x[12]))/1.2)\n",
    "def constraint2(x):\n",
    "    return (0.45*x[0]+0.35*x[1]+0.15*x[2] + 0.05*x[3])*x[4] - 0\n",
    "def constraint3(x):\n",
    "    return x[7]*(0.15*x[8] + 0.2*x[9] + 0.25*x[10] + 0.25*x[11] + 0.15*x[12]) - 0\n",
    "    \n",
    "Con1 = {'type':'ineq', 'fun':constraint1}\n",
    "Con2 = {'type':'ineq', 'fun':constraint2}\n",
    "Con3 = {'type':'ineq', 'fun':constraint3}\n",
    "Cons = [Con1, Con2, Con3]"
   ]
  },
  {
   "cell_type": "code",
   "execution_count": 7,
   "metadata": {},
   "outputs": [],
   "source": [
    "# Factor: kWh/kWp; 12 month; number obtained from Helioscope\n",
    "B_T_p = (1173,1263)\n",
    "\n",
    "# Load charged by Grid\n",
    "# Four Express 100\n",
    "B_L_g_1 = (0, 65.4) #0.45\n",
    "B_L_g_2 = (65.4, 165.4) #0.35\n",
    "B_L_g_3 = (165.4, 230.8) #0.15\n",
    "B_L_g_4 = (230.8, 338.5) #0.05\n",
    "\n",
    "# Load charged by solar, bound\n",
    "B_L_s_1 = (0,65.4) #0.15\n",
    "B_L_s_2 = (65.4, 165.4) #0.2\n",
    "B_L_s_3 = (165.4, 230.8) #0.25\n",
    "B_L_s_4 = (230.8,338.5) #0.25\n",
    "B_L_s_5 = (338.5, 488.5) #0.15\n",
    "B_T_g = (2,10)\n",
    "\n",
    "B_S_500 = (500,500)\n",
    "B_S_520 = (520,520)\n",
    "B_S_540 = (540,540)\n",
    "B_S_560 = (560,560)\n",
    "B_S_580 = (580,580)\n",
    "B_S_600 = (600,600)\n",
    "B_T_s = (0, 6)\n",
    "\n"
   ]
  },
  {
   "cell_type": "markdown",
   "metadata": {},
   "source": [
    "# Scenario 1"
   ]
  },
  {
   "cell_type": "code",
   "execution_count": 9,
   "metadata": {},
   "outputs": [
    {
     "name": "stdout",
     "output_type": "stream",
     "text": [
      "Result: -55630.24358341319 \n",
      "Parameter Values: [5.48076875e+01 1.46193842e+02 2.16456056e+02 3.06374844e+02\n",
      " 9.07423073e+00 1.25736151e+03 5.00000000e+02 8.94227237e-01\n",
      " 3.65192551e+01 1.21329463e+02 2.01614063e+02 2.90930369e+02\n",
      " 4.22851909e+02]\n"
     ]
    }
   ],
   "source": [
    "ig_500_1 = [7.7,65.4,165.4,230.8, 5, \n",
    "          1250, 500,\n",
    "         4, 65.4, 165.4, 230.8, 338.5, 488.5]\n",
    "\n",
    "Bounds_500 = [B_L_g_1 , B_L_g_2, B_L_g_3, B_L_g_4, B_T_g, \n",
    "          B_T_p, B_S_500,\n",
    "          B_T_s, B_L_s_1, B_L_s_2, B_L_s_3, B_L_s_4, B_L_s_5]\n",
    "sol_annual_500_1 = minimize(injection, ig_500_1, bounds=Bounds_500, constraints=Cons)\n",
    "print('Result:', sol_annual_500_1.fun, '\\nParameter Values:', sol_annual_500_1.x)"
   ]
  },
  {
   "cell_type": "code",
   "execution_count": 10,
   "metadata": {},
   "outputs": [
    {
     "name": "stdout",
     "output_type": "stream",
     "text": [
      "Result: -46847.793887338776 \n",
      "Parameter Values: [6.53599268e+01 1.65363345e+02 2.30782609e+02 3.38489578e+02\n",
      " 9.45096989e+00 1.26299987e+03 5.00000000e+02 9.82241600e-03\n",
      " 7.67587628e+00 6.54022898e+01 1.65402050e+02 2.30802050e+02\n",
      " 3.38501209e+02]\n"
     ]
    }
   ],
   "source": [
    "ig_500_2 = [65.4,165.4,230.8, 338.5, 5, \n",
    "          1190, 500,\n",
    "         4, 7.7, 65.4, 165.4, 230.8, 338.5]\n",
    "sol_annual_500_2 = minimize(injection, ig_500_2, bounds=Bounds_500, constraints=Cons)\n",
    "print('Result:', sol_annual_500_2.fun, '\\nParameter Values:', sol_annual_500_2.x)"
   ]
  },
  {
   "cell_type": "code",
   "execution_count": 54,
   "metadata": {},
   "outputs": [
    {
     "name": "stdout",
     "output_type": "stream",
     "text": [
      "Result: -51402.3507434926 \n",
      "Parameter Values: [  64.06974518  151.83992887  223.95997117  325.66609981    9.86587478\n",
      " 1262.90309683  500.            0.           27.4266784    84.29189269\n",
      "  184.067178    268.67257853  372.49531259]\n"
     ]
    }
   ],
   "source": [
    "ig_500_3 = [38.5,100,200,300, 4, \n",
    "          1220, 500,\n",
    "         4, 50, 100, 200, 300, 400]\n",
    "sol_annual_500_3 = minimize(injection, ig_500_3, bounds=Bounds_500, constraints=Cons)\n",
    "print('Result:', sol_annual_500_3.fun, '\\nParameter Values:', sol_annual_500_3.x)"
   ]
  },
  {
   "cell_type": "code",
   "execution_count": 13,
   "metadata": {},
   "outputs": [
    {
     "name": "stdout",
     "output_type": "stream",
     "text": [
      "Result: -112733.875 \n",
      "Parameter Values: [   7.7   65.4  165.4  230.8    5.  1250.   520.     4.    65.4  165.4\n",
      "  230.8  338.5  488.5]\n"
     ]
    }
   ],
   "source": [
    "Bounds_520 = [B_L_g_1 , B_L_g_2, B_L_g_3, B_L_g_4, B_T_g,\n",
    "          B_T_p, B_S_520,\n",
    "          B_T_s, B_L_s_1, B_L_s_2, B_L_s_3, B_L_s_4, B_L_s_5]\n",
    "ig_520_1 = [7.7,65.4,165.4,230.8, 5, \n",
    "          1250, 520,\n",
    "         4, 65.4, 165.4, 230.8, 338.5, 488.5]\n",
    "sol_annual_520_1 = minimize(injection, ig_520_1, bounds=Bounds_520, constraints=Cons)\n",
    "print('Result:', sol_annual_520_1.fun, '\\nParameter Values:', sol_annual_520_1.x)"
   ]
  },
  {
   "cell_type": "code",
   "execution_count": 14,
   "metadata": {},
   "outputs": [
    {
     "name": "stdout",
     "output_type": "stream",
     "text": [
      "Result: -48064.31652280764 \n",
      "Parameter Values: [6.53637969e+01 1.65367961e+02 2.30793936e+02 3.38495726e+02\n",
      " 9.83529578e+00 1.26300000e+03 5.20000000e+02 1.66200960e-02\n",
      " 7.67707016e+00 6.54014985e+01 1.65401822e+02 2.30801822e+02\n",
      " 3.38501547e+02]\n"
     ]
    }
   ],
   "source": [
    "ig_520_2 = [65.4,165.4,230.8, 338.5, 5, \n",
    "          1190, 520,\n",
    "         4, 7.7, 65.4, 165.4, 230.8, 338.5]\n",
    "sol_annual_520_2 = minimize(injection, ig_520_2, bounds=Bounds_520, constraints=Cons)\n",
    "print('Result:', sol_annual_520_2.fun, '\\nParameter Values:', sol_annual_520_2.x)"
   ]
  },
  {
   "cell_type": "code",
   "execution_count": 55,
   "metadata": {},
   "outputs": [
    {
     "name": "stdout",
     "output_type": "stream",
     "text": [
      "Result: -40442.74999999994 \n",
      "Parameter Values: [  65.4         165.4         230.8         338.5          10.\n",
      " 1263.          520.            0.            0.           65.4\n",
      "  165.4         230.8         351.92329774]\n"
     ]
    }
   ],
   "source": [
    "ig_520_3 = [38.5,100,200,300, 4, \n",
    "          1220, 520,\n",
    "         4, 30.8, 100, 200, 300, 400]\n",
    "sol_annual_520_3 = minimize(injection, ig_520_3, bounds=Bounds_520, constraints=Cons)\n",
    "print('Result:', sol_annual_520_3.fun, '\\nParameter Values:', sol_annual_520_3.x)"
   ]
  },
  {
   "cell_type": "code",
   "execution_count": 17,
   "metadata": {},
   "outputs": [
    {
     "name": "stdout",
     "output_type": "stream",
     "text": [
      "Result: -158878.3210727953 \n",
      "Parameter Values: [  30.8135699   112.5155503   196.2135699   281.54344767    5.76924402\n",
      " 1215.40399527  540.            3.17306698   12.5263807    88.10518034\n",
      "  200.36933431  251.06556446  390.70524759]\n"
     ]
    }
   ],
   "source": [
    "Bounds_540 = [B_L_g_1 , B_L_g_2, B_L_g_3, B_L_g_4, B_T_g,\n",
    "          B_T_p, B_S_540,\n",
    "          B_T_s, B_L_s_1, B_L_s_2, B_L_s_3, B_L_s_4, B_L_s_5]\n",
    "ig_540_1 = [7.7,65.4,165.4,230.8, 5, \n",
    "          1250, 540,\n",
    "         4, 65.4, 165.4, 230.8, 338.5, 488.5]\n",
    "sol_annual_540_1 = minimize(injection, ig_540_1, bounds=Bounds_540, constraints=Cons)\n",
    "print('Result:', sol_annual_540_1.fun, '\\nParameter Values:', sol_annual_540_1.x)"
   ]
  },
  {
   "cell_type": "code",
   "execution_count": 18,
   "metadata": {},
   "outputs": [
    {
     "name": "stdout",
     "output_type": "stream",
     "text": [
      "Result: -50489.04169385781 \n",
      "Parameter Values: [  65.39995693  165.3999664   230.7999856   338.4999952     9.93183526\n",
      " 1230.86931267  540.            0.            7.6853208    65.4\n",
      "  165.4         230.8         338.5       ]\n"
     ]
    }
   ],
   "source": [
    "ig_540_2 = [65.4,165.4,230.8, 338.5, 5, \n",
    "          1190, 540,\n",
    "         4, 7.7, 65.4, 165.4, 230.8, 338.5]\n",
    "sol_annual_540_2 = minimize(injection, ig_540_2, bounds=Bounds_540, constraints=Cons)\n",
    "print('Result:', sol_annual_540_2.fun, '\\nParameter Values:', sol_annual_540_2.x)"
   ]
  },
  {
   "cell_type": "code",
   "execution_count": 56,
   "metadata": {},
   "outputs": [
    {
     "name": "stdout",
     "output_type": "stream",
     "text": [
      "Result: -61715.49420676194 \n",
      "Parameter Values: [6.53548802e+01 1.65331009e+02 2.30754880e+02 3.38425697e+02\n",
      " 9.99448076e+00 1.26293791e+03 5.40000000e+02 4.13943265e-03\n",
      " 1.12614449e+01 7.39951021e+01 1.67530221e+02 2.67318092e+02\n",
      " 3.80289065e+02]\n"
     ]
    }
   ],
   "source": [
    "ig_540_3 = [38.5,100,200,300, 4, \n",
    "          1220, 540,\n",
    "         4, 30.8, 100, 200, 300, 400]\n",
    "sol_annual_540_3 = minimize(injection, ig_540_3, bounds=Bounds_540, constraints=Cons)\n",
    "print('Result:', sol_annual_540_3.fun, '\\nParameter Values:', sol_annual_540_3.x)"
   ]
  },
  {
   "cell_type": "code",
   "execution_count": 22,
   "metadata": {},
   "outputs": [
    {
     "name": "stdout",
     "output_type": "stream",
     "text": [
      "Result: -82643.47755514731 \n",
      "Parameter Values: [6.53750527e+01 1.65361854e+02 2.30775053e+02 3.38458917e+02\n",
      " 9.99694835e+00 1.26296567e+03 5.60000000e+02 2.28874015e-03\n",
      " 3.35572798e+01 1.23723775e+02 1.76958266e+02 2.84658266e+02\n",
      " 4.56657784e+02]\n"
     ]
    }
   ],
   "source": [
    "Bounds_560 = [B_L_g_1 , B_L_g_2, B_L_g_3, B_L_g_4, B_T_g,\n",
    "          B_T_p, B_S_560,\n",
    "          B_T_s, B_L_s_1, B_L_s_2, B_L_s_3, B_L_s_4, B_L_s_5]\n",
    "ig_560_1 = [7.7,65.4,165.4,230.8, 5, \n",
    "          1250, 560,\n",
    "         4, 65.4, 165.4, 230.8, 338.5, 488.5]\n",
    "sol_annual_560_1 = minimize(injection, ig_560_1, bounds=Bounds_560, constraints=Cons)\n",
    "print('Result:', sol_annual_560_1.fun, '\\nParameter Values:', sol_annual_560_1.x)\n"
   ]
  },
  {
   "cell_type": "code",
   "execution_count": 23,
   "metadata": {},
   "outputs": [
    {
     "name": "stdout",
     "output_type": "stream",
     "text": [
      "Result: -50602.26499421615 \n",
      "Parameter Values: [  65.02083464  165.1210338   230.67365455  338.42610098   10.\n",
      " 1192.28077685  560.            0.            7.37888122   65.40069698\n",
      "  165.40087074  230.80087074  338.50052265]\n"
     ]
    }
   ],
   "source": [
    "ig_560_2 = [65.4,165.4,230.8, 338.5, 5, \n",
    "          1190, 560,\n",
    "         4, 7.7, 65.4, 165.4, 230.8, 338.5]\n",
    "sol_annual_560_2 = minimize(injection, ig_560_2, bounds=Bounds_560, constraints=Cons)\n",
    "print('Result:', sol_annual_560_2.fun, '\\nParameter Values:', sol_annual_560_2.x)"
   ]
  },
  {
   "cell_type": "code",
   "execution_count": 57,
   "metadata": {},
   "outputs": [
    {
     "name": "stdout",
     "output_type": "stream",
     "text": [
      "Result: -40542.74999999994 \n",
      "Parameter Values: [  65.4  165.4  230.8  338.5   10.  1173.   560.     0.     0.    65.4\n",
      "  165.4  230.8  338.5]\n"
     ]
    }
   ],
   "source": [
    "ig_560_3 = [38.5,100,200,300, 4, \n",
    "          1220, 560,\n",
    "         4, 30.8, 100, 200, 300, 400]\n",
    "sol_annual_560_3 = minimize(injection, ig_560_3, bounds=Bounds_560, constraints=Cons)\n",
    "print('Result:', sol_annual_560_3.fun, '\\nParameter Values:', sol_annual_560_3.x)"
   ]
  },
  {
   "cell_type": "code",
   "execution_count": 26,
   "metadata": {},
   "outputs": [
    {
     "name": "stdout",
     "output_type": "stream",
     "text": [
      "Result: -158572.20010276805 \n",
      "Parameter Values: [  13.47         71.78688651  168.13743239  231.71260767    5.5\n",
      " 1250.00042201  580.            3.93135065   65.39984066  165.39978754\n",
      "  230.79973442  338.49973442  488.49984065]\n"
     ]
    }
   ],
   "source": [
    "Bounds_580 = [B_L_g_1 , B_L_g_2, B_L_g_3, B_L_g_4, B_T_g,\n",
    "          B_T_p, B_S_580,\n",
    "          B_T_s, B_L_s_1, B_L_s_2, B_L_s_3, B_L_s_4, B_L_s_5]\n",
    "ig_580_1 = [7.7,65.4,165.4,230.8, 5, \n",
    "          1250, 580,\n",
    "         4, 65.4, 165.4, 230.8, 338.5, 488.5]\n",
    "sol_annual_580_1 = minimize(injection, ig_580_1, bounds=Bounds_580, constraints=Cons)\n",
    "print('Result:', sol_annual_580_1.fun, '\\nParameter Values:', sol_annual_580_1.x)"
   ]
  },
  {
   "cell_type": "code",
   "execution_count": 27,
   "metadata": {},
   "outputs": [
    {
     "name": "stdout",
     "output_type": "stream",
     "text": [
      "Result: -68304.02469171933 \n",
      "Parameter Values: [6.53145219e+01 1.65269300e+02 2.30714522e+02 3.38380287e+02\n",
      " 9.66129066e+00 1.20981179e+03 5.80000000e+02 5.29415801e-01\n",
      " 7.96841507e+00 7.03363703e+01 1.68864790e+02 2.36185095e+02\n",
      " 3.45607075e+02]\n"
     ]
    }
   ],
   "source": [
    "ig_580_2 = [65.4,165.4,230.8, 338.5, 5, \n",
    "          1190, 580,\n",
    "         4, 7.7, 65.4, 165.4, 230.8, 338.5]\n",
    "sol_annual_580_2 = minimize(injection, ig_580_2, bounds=Bounds_580, constraints=Cons)\n",
    "print('Result:', sol_annual_580_2.fun, '\\nParameter Values:', sol_annual_580_2.x)"
   ]
  },
  {
   "cell_type": "code",
   "execution_count": 58,
   "metadata": {},
   "outputs": [
    {
     "name": "stdout",
     "output_type": "stream",
     "text": [
      "Result: -83191.6889781187 \n",
      "Parameter Values: [6.53823931e+01 1.65373078e+02 2.30782393e+02 3.38471005e+02\n",
      " 9.99784625e+00 1.22061588e+03 5.80000000e+02 1.61531435e-03\n",
      " 3.05285862e+01 9.96749425e+01 1.99622305e+02 2.99455054e+02\n",
      " 3.99592859e+02]\n"
     ]
    }
   ],
   "source": [
    "ig_580_3 = [38.5,100,200,300, 4, \n",
    "          1220, 580,\n",
    "         4, 30.8, 100, 200, 300, 400]\n",
    "sol_annual_580_3 = minimize(injection, ig_580_3, bounds=Bounds_580, constraints=Cons)\n",
    "print('Result:', sol_annual_580_3.fun, '\\nParameter Values:', sol_annual_580_3.x)"
   ]
  },
  {
   "cell_type": "code",
   "execution_count": 47,
   "metadata": {},
   "outputs": [
    {
     "name": "stdout",
     "output_type": "stream",
     "text": [
      "Result: -124926.70387746196 \n",
      "Parameter Values: [6.53010100e+01 1.65248639e+02 2.30701010e+02 3.03012601e+02\n",
      " 9.98789113e+00 1.25000999e+03 6.00000000e+02 9.08164905e-03\n",
      " 6.51558498e+01 1.65029363e+02 2.30546713e+02 3.38097663e+02\n",
      " 4.87957750e+02]\n"
     ]
    }
   ],
   "source": [
    "Bounds_600 = [B_L_g_1 , B_L_g_2, B_L_g_3, B_L_g_4, B_T_g,\n",
    "          B_T_p, B_S_600,\n",
    "          B_T_s, B_L_s_1, B_L_s_2, B_L_s_3, B_L_s_4, B_L_s_5]\n",
    "\n",
    "ig_600_1 = [7.7,65.4,165.4,230.8, 5, \n",
    "          1250, 600,\n",
    "         4, 65.4, 165.4, 230.8, 338.5, 488.5]\n",
    "\n",
    "sol_annual_600_1 = minimize(injection, ig_600_1, bounds=Bounds_600, constraints=Cons)\n",
    "print('Result:', sol_annual_600_1.fun, '\\nParameter Values:', sol_annual_600_1.x)"
   ]
  },
  {
   "cell_type": "code",
   "execution_count": 48,
   "metadata": {},
   "outputs": [
    {
     "name": "stdout",
     "output_type": "stream",
     "text": [
      "Result: -73674.08913934854 \n",
      "Parameter Values: [6.53273355e+01 1.65291571e+02 2.30732960e+02 3.38406418e+02\n",
      " 9.77140082e+00 1.19008276e+03 6.00000000e+02 5.28830322e-01\n",
      " 7.81839407e+00 6.54629136e+01 1.65454001e+02 2.30871488e+02\n",
      " 3.38578193e+02]\n"
     ]
    }
   ],
   "source": [
    "ig_600_2 = [65.4,165.4,230.8, 338.5, 5, \n",
    "          1190, 600,\n",
    "         4, 7.7, 65.4, 165.4, 230.8, 338.5]\n",
    "sol_annual_600_2 = minimize(injection, ig_600_2, bounds=Bounds_600, constraints=Cons)\n",
    "print('Result:', sol_annual_600_2.fun, '\\nParameter Values:', sol_annual_600_2.x)"
   ]
  },
  {
   "cell_type": "code",
   "execution_count": 59,
   "metadata": {},
   "outputs": [
    {
     "name": "stdout",
     "output_type": "stream",
     "text": [
      "Result: -125201.80720276869 \n",
      "Parameter Values: [6.52769869e+01 1.65253428e+02 2.30676987e+02 3.38297423e+02\n",
      " 9.98827426e+00 1.26283072e+03 6.00000000e+02 8.79430225e-03\n",
      " 1.23013121e-01 6.55880935e+01 1.65523013e+02 2.30938830e+02\n",
      " 3.57387871e+02]\n"
     ]
    }
   ],
   "source": [
    "ig_600_3 = [38.5,100,200,300, 4, \n",
    "          1220, 600,\n",
    "         4, 38.5, 100, 200, 300, 400]\n",
    "sol_annual_600_3 = minimize(injection, ig_600_3, bounds=Bounds_600, constraints=Cons)\n",
    "print('Result:', sol_annual_600_3.fun, '\\nParameter Values:', sol_annual_600_3.x)"
   ]
  },
  {
   "cell_type": "code",
   "execution_count": 60,
   "metadata": {},
   "outputs": [
    {
     "data": {
      "text/html": [
       "<div>\n",
       "<table border=\"1\" class=\"dataframe\">\n",
       "  <thead>\n",
       "    <tr style=\"text-align: right;\">\n",
       "      <th></th>\n",
       "      <th>Nameplate</th>\n",
       "      <th>Net Injection-1</th>\n",
       "      <th>Net Injection-2</th>\n",
       "      <th>Net Injection-3</th>\n",
       "    </tr>\n",
       "  </thead>\n",
       "  <tbody>\n",
       "    <tr>\n",
       "      <th>0</th>\n",
       "      <td>500</td>\n",
       "      <td>-55630.243583</td>\n",
       "      <td>-46847.793887</td>\n",
       "      <td>-51402.350743</td>\n",
       "    </tr>\n",
       "    <tr>\n",
       "      <th>1</th>\n",
       "      <td>520</td>\n",
       "      <td>-112733.875000</td>\n",
       "      <td>-48064.316523</td>\n",
       "      <td>-40442.750000</td>\n",
       "    </tr>\n",
       "    <tr>\n",
       "      <th>2</th>\n",
       "      <td>540</td>\n",
       "      <td>-158878.321073</td>\n",
       "      <td>-50489.041694</td>\n",
       "      <td>-61715.494207</td>\n",
       "    </tr>\n",
       "    <tr>\n",
       "      <th>3</th>\n",
       "      <td>560</td>\n",
       "      <td>-82643.477555</td>\n",
       "      <td>-50602.264994</td>\n",
       "      <td>-40542.750000</td>\n",
       "    </tr>\n",
       "    <tr>\n",
       "      <th>4</th>\n",
       "      <td>580</td>\n",
       "      <td>-158572.200103</td>\n",
       "      <td>-68304.024692</td>\n",
       "      <td>-83191.688978</td>\n",
       "    </tr>\n",
       "    <tr>\n",
       "      <th>5</th>\n",
       "      <td>600</td>\n",
       "      <td>-124926.703877</td>\n",
       "      <td>-73674.089139</td>\n",
       "      <td>-125201.807203</td>\n",
       "    </tr>\n",
       "  </tbody>\n",
       "</table>\n",
       "</div>"
      ],
      "text/plain": [
       "   Nameplate  Net Injection-1  Net Injection-2  Net Injection-3\n",
       "0        500    -55630.243583    -46847.793887    -51402.350743\n",
       "1        520   -112733.875000    -48064.316523    -40442.750000\n",
       "2        540   -158878.321073    -50489.041694    -61715.494207\n",
       "3        560    -82643.477555    -50602.264994    -40542.750000\n",
       "4        580   -158572.200103    -68304.024692    -83191.688978\n",
       "5        600   -124926.703877    -73674.089139   -125201.807203"
      ]
     },
     "execution_count": 60,
     "metadata": {},
     "output_type": "execute_result"
    }
   ],
   "source": [
    "a = {'Nameplate':[500,520,540,560,580,600], \n",
    "    'Net Injection-1':[sol_annual_500_1.fun, sol_annual_520_1.fun, sol_annual_540_1.fun, sol_annual_560_1.fun,\n",
    "                     sol_annual_580_1.fun, sol_annual_600_1.fun],\n",
    "    'Net Injection-2':[sol_annual_500_2.fun, sol_annual_520_2.fun, sol_annual_540_2.fun, sol_annual_560_2.fun,\n",
    "                     sol_annual_580_2.fun, sol_annual_600_2.fun],\n",
    "    'Net Injection-3':[sol_annual_500_3.fun, sol_annual_520_3.fun, sol_annual_540_3.fun, sol_annual_560_3.fun,\n",
    "                     sol_annual_580_3.fun, sol_annual_600_3.fun]}\n",
    "data = pd.DataFrame(a)\n",
    "data"
   ]
  },
  {
   "cell_type": "code",
   "execution_count": 61,
   "metadata": {},
   "outputs": [
    {
     "data": {
      "text/html": [
       "<div>\n",
       "<table border=\"1\" class=\"dataframe\">\n",
       "  <thead>\n",
       "    <tr style=\"text-align: right;\">\n",
       "      <th></th>\n",
       "      <th>Nameplate</th>\n",
       "      <th>Net Injection-1</th>\n",
       "      <th>Net Injection-2</th>\n",
       "      <th>Net Injection-3</th>\n",
       "    </tr>\n",
       "  </thead>\n",
       "  <tbody>\n",
       "    <tr>\n",
       "      <th>0</th>\n",
       "      <td>500</td>\n",
       "      <td>55630.243583</td>\n",
       "      <td>46847.793887</td>\n",
       "      <td>51402.350743</td>\n",
       "    </tr>\n",
       "    <tr>\n",
       "      <th>1</th>\n",
       "      <td>520</td>\n",
       "      <td>112733.875000</td>\n",
       "      <td>48064.316523</td>\n",
       "      <td>40442.750000</td>\n",
       "    </tr>\n",
       "    <tr>\n",
       "      <th>2</th>\n",
       "      <td>540</td>\n",
       "      <td>158878.321073</td>\n",
       "      <td>50489.041694</td>\n",
       "      <td>61715.494207</td>\n",
       "    </tr>\n",
       "    <tr>\n",
       "      <th>3</th>\n",
       "      <td>560</td>\n",
       "      <td>82643.477555</td>\n",
       "      <td>50602.264994</td>\n",
       "      <td>40542.750000</td>\n",
       "    </tr>\n",
       "    <tr>\n",
       "      <th>4</th>\n",
       "      <td>580</td>\n",
       "      <td>158572.200103</td>\n",
       "      <td>68304.024692</td>\n",
       "      <td>83191.688978</td>\n",
       "    </tr>\n",
       "    <tr>\n",
       "      <th>5</th>\n",
       "      <td>600</td>\n",
       "      <td>124926.703877</td>\n",
       "      <td>73674.089139</td>\n",
       "      <td>125201.807203</td>\n",
       "    </tr>\n",
       "  </tbody>\n",
       "</table>\n",
       "</div>"
      ],
      "text/plain": [
       "   Nameplate  Net Injection-1  Net Injection-2  Net Injection-3\n",
       "0        500     55630.243583     46847.793887     51402.350743\n",
       "1        520    112733.875000     48064.316523     40442.750000\n",
       "2        540    158878.321073     50489.041694     61715.494207\n",
       "3        560     82643.477555     50602.264994     40542.750000\n",
       "4        580    158572.200103     68304.024692     83191.688978\n",
       "5        600    124926.703877     73674.089139    125201.807203"
      ]
     },
     "execution_count": 61,
     "metadata": {},
     "output_type": "execute_result"
    }
   ],
   "source": [
    "data['Net Injection-1'] = abs(data['Net Injection-1'])\n",
    "data['Net Injection-2'] = abs(data['Net Injection-2'])\n",
    "data['Net Injection-3'] = abs(data['Net Injection-3'])\n",
    "data"
   ]
  },
  {
   "cell_type": "code",
   "execution_count": 62,
   "metadata": {},
   "outputs": [
    {
     "data": {
      "text/plain": [
       "<matplotlib.legend.Legend at 0x7f01ae3414e0>"
      ]
     },
     "execution_count": 62,
     "metadata": {},
     "output_type": "execute_result"
    },
    {
     "data": {
      "image/png": "[encoded data removed]",
      "text/plain": [
       "<matplotlib.figure.Figure at 0x7f01ae3b7048>"
      ]
     },
     "metadata": {},
     "output_type": "display_data"
    }
   ],
   "source": [
    "pl.plot(data['Nameplate'], np.log10(data['Net Injection-1']), '-', c='b',label='1')\n",
    "pl.plot(data['Nameplate'], np.log10(data['Net Injection-2']), '-', c='r', label='2')\n",
    "pl.plot(data['Nameplate'], np.log10(data['Net Injection-3']), '-', c='g', label='3')\n",
    "pl.xlabel('Nameplate')\n",
    "pl.ylabel('Net Injection (Log10 applied)')\n",
    "pl.title('Weight Load Bound Optimization Result(Log10 applied)')\n",
    "pl.legend()"
   ]
  },
  {
   "cell_type": "code",
   "execution_count": null,
   "metadata": {},
   "outputs": [],
   "source": []
  }
 ],
 "metadata": {
  "kernelspec": {
   "display_name": "PUI2016_Python3",
   "language": "python",
   "name": "pui2016_python3"
  },
  "language_info": {
   "codemirror_mode": {
    "name": "ipython",
    "version": 3
   },
   "file_extension": ".py",
   "mimetype": "text/x-python",
   "name": "python",
   "nbconvert_exporter": "python",
   "pygments_lexer": "ipython3",
   "version": "3.5.4"
  }
 },
 "nbformat": 4,
 "nbformat_minor": 2
}
