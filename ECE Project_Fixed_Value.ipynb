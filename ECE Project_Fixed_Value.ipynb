{
 "cells": [
  {
   "cell_type": "code",
   "execution_count": 2,
   "metadata": {},
   "outputs": [],
   "source": [
    "import numpy as np\n",
    "import statistics as st"
   ]
  },
  {
   "cell_type": "code",
   "execution_count": 3,
   "metadata": {},
   "outputs": [],
   "source": [
    "# System Size\n",
    "S = np.array([500,520,540,560,580,600])\n",
    "\n",
    "# Factor: System producing hours daily production/nameplate; 12 month\n",
    "T_p = np.arange(1170, 1270, 5)\n",
    "\n",
    "# Load charging on grid:\n",
    "L_g = np.array([7.7, 15.4, 23.1, 30.8, 57.7, 65.4, 73.1, 107.7, 123.1, 157.7, 173.1, 207.7, 223.1, 238.5, 257.5, 288.5, 338.5])\n",
    "\n",
    "# Load charging on solar: \n",
    "L_s = np.array([7.7, 15.4, 23.1, 30.8, 57.7, 65.4, 73.1, 107.7, 123.1, 157.7, 173.1, 207.7, 223.1, 238.5, 257.5, 288.5, 338.5, 388.5, 438.5])\n",
    "\n",
    "# Solar charging hours\n",
    "T_s = np.arange(0,5,0.5)\n",
    "\n",
    "# Grid charging hours\n",
    "T_g = np.arange(2,12,0.5)"
   ]
  },
  {
   "cell_type": "code",
   "execution_count": 4,
   "metadata": {},
   "outputs": [],
   "source": [
    "def opt(T_p,S,L_s,T_s,L_g,T_g):\n",
    "    result = set()\n",
    "    dic = {}\n",
    "    for i in range(len(T_p)):\n",
    "#         for j in range(len(S)):\n",
    "        for k in range(len(L_s)):\n",
    "            for l in range(len(T_s)):\n",
    "                for m in range(len(L_g)):\n",
    "                    for n in range(len(T_g)):\n",
    "                        res = (T_p[i] * S - 365 * L_s[k] * T_s[l])/1.2 - L_g[m] * T_g[n] * 365\n",
    "# Cap injection at 110% of grid usage:                        \n",
    "                        if res > 0 and ((T_p[i] * S - 365 * L_s[k] * T_s[l])/1.2)/(L_g[m] * T_g[n] * 365)<1.1 and L_s[k] * T_s[l]>0 and L_g[m] * T_g[n]>0:\n",
    "                            key = [T_p[i],L_s[k],T_s[l],L_g[m],T_g[n]]\n",
    "                            dic[res] = key\n",
    "                            result.add(res)\n",
    "                        \n",
    "    print(len(result))\n",
    "    max_res = max(dic.keys())\n",
    "    #mean_res = st.mean(dic.keys())\n",
    "    res_summ = list(dic.keys())\n",
    "    mean = np.mean(res_summ)\n",
    "    print('S:', S, 'res:', max_res, 'paraneter:',dic[max_res])\n",
    "    print('S:', S, 'mean:', mean)\n",
    "#    print(res_summ)\n",
    "    #print('S:', S, 'res:', mean_res, 'paraneter:',dic[mean_res])\n"
   ]
  },
  {
   "cell_type": "code",
   "execution_count": 5,
   "metadata": {},
   "outputs": [
    {
     "name": "stdout",
     "output_type": "stream",
     "text": [
      "27088\n",
      "S: 500 res: 47366.875 paraneter: [1265, 7.7, 2.5, 288.5, 4.5]\n",
      "S: 500 mean: 18116.618318074452\n",
      "27730\n",
      "S: 520 res: 49411.4166666668 paraneter: [1260, 15.4, 0.5, 123.1, 11.0]\n",
      "S: 520 mean: 18964.45600282489\n",
      "28076\n",
      "S: 540 res: 51366.70833333343 paraneter: [1265, 7.7, 0.5, 123.1, 11.5]\n",
      "S: 540 mean: 19889.73205762932\n",
      "28533\n",
      "S: 560 res: 52857.541666666744 paraneter: [1250, 7.7, 0.5, 223.1, 6.5]\n",
      "S: 560 mean: 20770.08660878051\n",
      "28643\n",
      "S: 580 res: 54645.666666666744 paraneter: [1265, 65.4, 0.5, 157.7, 9.5]\n",
      "S: 580 mean: 21656.22639912024\n",
      "28286\n",
      "S: 600 res: 56840.25 paraneter: [1265, 23.1, 1.0, 173.1, 9.0]\n",
      "S: 600 mean: 22548.87426789463\n"
     ]
    }
   ],
   "source": [
    "for i in range(len(S)):\n",
    "    opt(T_p,S[i],L_s,T_s,L_g,T_g)"
   ]
  },
  {
   "cell_type": "code",
   "execution_count": null,
   "metadata": {},
   "outputs": [],
   "source": []
  }
 ],
 "metadata": {
  "kernelspec": {
   "display_name": "PUI2016_Python3",
   "language": "python",
   "name": "pui2016_python3"
  },
  "language_info": {
   "codemirror_mode": {
    "name": "ipython",
    "version": 3
   },
   "file_extension": ".py",
   "mimetype": "text/x-python",
   "name": "python",
   "nbconvert_exporter": "python",
   "pygments_lexer": "ipython3",
   "version": "3.5.4"
  }
 },
 "nbformat": 4,
 "nbformat_minor": 2
}
